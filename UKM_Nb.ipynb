{
 "cells": [
  {
   "cell_type": "code",
   "execution_count": 1,
   "metadata": {},
   "outputs": [],
   "source": [
    "# All imports are in this cell\n",
    "import re\n",
    "from datetime import datetime"
   ]
  },
  {
   "cell_type": "code",
   "execution_count": 2,
   "metadata": {},
   "outputs": [],
   "source": [
    "# All constants are in this cell\n",
    "fileName = 'MachauWingiesChatData.txt'"
   ]
  },
  {
   "cell_type": "code",
   "execution_count": 3,
   "metadata": {},
   "outputs": [],
   "source": [
    "def getDateTimeNameMessage(line):\n",
    "    '''This function takes a line as input parameter\n",
    "    and returns a tuple in the following order\n",
    "    (date, time, name, message)\n",
    "    date as datetime type\n",
    "    time in hh:mm am/pm format as string type'''\n",
    "    \n",
    "    date = re.search(\"[0-9]{2}/[0-9]{2}/[0-9]{4}\", line)\n",
    "    time = re.search(\"[0-9]+:[0-9]{2}\\s[ap]m\", line)\n",
    "    name = re.search(\"\\s-\\s(.*?):\", line)\n",
    "    message = re.search(\"\\s-\\s.*:\\s(.+)\", line)\n",
    "    \n",
    "    if date is not None and time is not None and name is not None and message is not None:   # This line contains a new data\n",
    "        date = datetime.strptime(date.group(0), '%d/%m/%Y')\n",
    "        time = time.group(0)\n",
    "        name = name.group(1)\n",
    "        message = message.group(1)\n",
    "    \n",
    "    elif date is not None and time is not None and (name is None or message is None):  # Someone left a group message\n",
    "        date = None\n",
    "        time = None\n",
    "        name = None\n",
    "        message = None\n",
    "    \n",
    "    else:                           # This only contains message, continuation of previous message\n",
    "        date = None\n",
    "        time = None\n",
    "        name = None\n",
    "        message = line\n",
    "    \n",
    "    return (date, time, name, message)"
   ]
  },
  {
   "cell_type": "code",
   "execution_count": 4,
   "metadata": {},
   "outputs": [],
   "source": [
    "def getSimplifiedChatData(filename):\n",
    "    '''This function takes filename as input parameter\n",
    "    and returns a list of all chat data\n",
    "    with each value being a tuple in the order\n",
    "    (date, time, name, message)\n",
    "    \n",
    "    This function merges large messages which come in new line in chat data text file'''\n",
    "    \n",
    "    chatDataTxt = open(filename, 'r', encoding=\"utf8\") # opened as read only\n",
    "    chatDataList = []                 # to store and return the simplified data\n",
    "    \n",
    "    for eachLine in chatDataTxt:\n",
    "        dateTimeNameMsgTuple = getDateTimeNameMessage(eachLine)\n",
    "        \n",
    "        if dateTimeNameMsgTuple[0] is not None:          # New data found\n",
    "            chatDataList.append(dateTimeNameMsgTuple)\n",
    "        \n",
    "        elif dateTimeNameMsgTuple[-1] is None:           # Message is None i.e someone left a group. Skip this data\n",
    "            pass\n",
    "        \n",
    "        else:                                            # message continues from previous data\n",
    "            newMsgForPreviousData = chatDataList[-1][-1] + dateTimeNameMsgTuple[-1]\n",
    "            dateForPreviousData = chatDataList[-1][0]\n",
    "            timeForPreviousData = chatDataList[-1][1]\n",
    "            nameForPreviousData = chatDataList[-1][2]\n",
    "            \n",
    "            chatDataList[-1] = (dateForPreviousData, timeForPreviousData, nameForPreviousData, newMsgForPreviousData)\n",
    "    \n",
    "    return chatDataList"
   ]
  },
  {
   "cell_type": "code",
   "execution_count": 5,
   "metadata": {},
   "outputs": [],
   "source": [
    "def getAllParticipantsName(filename, includeCompleteName = False):\n",
    "    '''This function returns a list of names of all the group participants\n",
    "    Requirement is that they should have posted atleast a single message\n",
    "    Name returned is the name saved in persons whose data has been shared\n",
    "    \n",
    "    Pass the filename to this function\n",
    "    Optionally it accepts includeCompleteName parameter which if true returns complete name\n",
    "    else just first name is included'''\n",
    "    \n",
    "    allChatDataSimplified = getSimplifiedChatData(filename)  #Getting simplified data\n",
    "    allChatParticipants = set()                          #varible of set type to store all participants name\n",
    "    \n",
    "    for eachChatData in allChatDataSimplified:\n",
    "        name = eachChatData[2]\n",
    "        \n",
    "        if includeCompleteName:                          #full name is required\n",
    "            pass\n",
    "        else:                                            #only first name is required\n",
    "            name = name.split()[0]                       \n",
    "        \n",
    "        allChatParticipants.add(name)\n",
    "    \n",
    "    return list(allChatParticipants)  "
   ]
  },
  {
   "cell_type": "code",
   "execution_count": 6,
   "metadata": {},
   "outputs": [],
   "source": [
    "def GetBasicStats(chatDataList):\n",
    "    ''' Input: list output from getSimplifiedChatData function\n",
    "        Output: tuples of general stats (number of messages, Chat duration, total number of characters in\n",
    "                message(including spaces), total number of words, total number of media content) \n",
    "    '''\n",
    "    \n",
    "    nMsg = len(chatDataList)\n",
    "    ChatDuration = (chatDataList[-1][0] - chatDataList[0][0]).days + 1\n",
    "    \n",
    "    nCharacters = 0 #including spaces\n",
    "    nWords = 0\n",
    "    nMedia = 0\n",
    "    \n",
    "    for item in chatDataList:\n",
    "        nCharacters = nCharacters + len(item[3])\n",
    "        nWords = nWords + len(item[3].split())\n",
    "        if item[3] == \"<Media omitted>\":\n",
    "            nMedia = nMedia + 1\n",
    "        \n",
    "        \n",
    "    \n",
    "    return (nMsg, ChatDuration, nCharacters, nWords, nMedia)"
   ]
  },
  {
   "cell_type": "code",
   "execution_count": 7,
   "metadata": {},
   "outputs": [],
   "source": [
    "def GetDetailedStats(chatDataList):\n",
    "    '''\n",
    "    Input: list output from getSimplifiedChatData function\n",
    "    Output: tuple (AvgMsgPerDay, AvgCharPerMsg, AvgCharPerDay, LenLongestMsg, AvgWordsPerMsg, AvgWordsPerDay, AvgMediaPerDay)\n",
    "    '''\n",
    "    \n",
    "    (nMsg, ChatDuration, nCharacters, nWords, nMedia) = GetBasicStats(chatDataList)\n",
    "    \n",
    "    AvgMsgPerDay = int(nMsg/ChatDuration)\n",
    "    AvgCharPerMsg = int(nCharacters/nMsg)\n",
    "    AvgCharPerDay = int(AvgMsgPerDay*AvgCharPerMsg)\n",
    "    AvgWordsPerMsg = int(nWords/nMsg)\n",
    "    AvgWordsPerDay = int(AvgWordsPerMsg*AvgMsgPerDay)\n",
    "    AvgMediaPerDay = int(nMedia/ChatDuration)\n",
    "    \n",
    "    LenLongestMsg = 0  \n",
    "    for item in chatDataList:\n",
    "        LenLongestMsg = max(LenLongestMsg, len(item[3]))\n",
    "        \n",
    "        \n",
    "    return (AvgMsgPerDay, AvgCharPerMsg, AvgCharPerDay, LenLongestMsg, AvgWordsPerMsg, AvgWordsPerDay, AvgMediaPerDay)"
   ]
  },
  {
   "cell_type": "code",
   "execution_count": 8,
   "metadata": {},
   "outputs": [],
   "source": [
    "def extractDomainName(line):\n",
    "    '''This function extracts and returns domain name of url \n",
    "    from the given sentence passed as parameter\n",
    "    If no url is present, it returns None'''\n",
    "    \n",
    "    link = re.search(\"https://(.+?)/\", line)  #if url is present, extracting till first '/' after https\n",
    "    \n",
    "    if link is None:\n",
    "        return None\n",
    "    \n",
    "    link = link.group(1)\n",
    "    \n",
    "    linkWords = link.split('.')\n",
    "    \n",
    "    if len(linkWords) > 2:                     #first word mostly like is www\n",
    "        return linkWords[1]\n",
    "    else:\n",
    "        return linkWords[0]                    #first word itself is the domain name"
   ]
  },
  {
   "cell_type": "code",
   "execution_count": 9,
   "metadata": {},
   "outputs": [],
   "source": [
    "def GetIndividualDataDistribution(chatDataList):\n",
    "    '''\n",
    "    Input: list output from getSimplifiedChatData function\n",
    "    output: Dictionary[First Name as key]: ChatData for that Individual\n",
    "    '''\n",
    "    MembersData = {}\n",
    "    \n",
    "    \n",
    "    for item in chatDataList:\n",
    "        firstName = item[2].split()[0]\n",
    "        if firstName not in MembersData:\n",
    "            MembersData[firstName] = []\n",
    "            \n",
    "        MembersData[firstName].append(item)\n",
    "        \n",
    "    \n",
    "    \n",
    "    \n",
    "    return MembersData\n",
    "    "
   ]
  },
  {
   "cell_type": "code",
   "execution_count": 10,
   "metadata": {},
   "outputs": [],
   "source": [
    "def getIndividualStats(chatDataList):\n",
    "    '''\n",
    "    Input: list output from getSimplifiedChatData function\n",
    "    Output: Dictionary[First Name as key]: Detailed Stats of chat for that Individual\n",
    "    '''\n",
    "    \n",
    "    MembersData = GetIndividualDataDistribution(chatDataList)\n",
    "    \n",
    "    IndividualStats = {}\n",
    "    \n",
    "    for keys in MembersData.keys():\n",
    "        IndividualStats[keys] = GetDetailedStats(MembersData[keys])\n",
    "        \n",
    "    return IndividualStats\n",
    "    "
   ]
  },
  {
   "cell_type": "code",
   "execution_count": 11,
   "metadata": {},
   "outputs": [],
   "source": [
    "def getDayWiseDataDistribution(chatDataList):\n",
    "    '''\n",
    "    Input: list output from getSimplifiedChatData function\n",
    "    Output: Dictionary[Date in datetime as key]: ChatData for that Date\n",
    "    '''\n",
    "    \n",
    "    DayWiseDistribution = {}\n",
    "    \n",
    "    for item in chatDataList:\n",
    "        if item[0] not in DayWiseDistribution:\n",
    "            DayWiseDistribution[item[0]] = []\n",
    "            \n",
    "        DayWiseDistribution[item[0]].append(item)\n",
    "        \n",
    "    return DayWiseDistribution\n",
    "        \n",
    "    \n",
    "    "
   ]
  },
  {
   "cell_type": "code",
   "execution_count": 12,
   "metadata": {},
   "outputs": [],
   "source": [
    "def getDayWiseStats(chatDataList):\n",
    "    '''\n",
    "    Input: list output from getSimplifiedChatData function\n",
    "    Output: Dictionary[Date in datetime type as key]: Detailed Stats of chat for that Date\n",
    "    '''\n",
    "    DayWiseDistribution = getDayWiseDataDistribution(chatDataList)\n",
    "    \n",
    "    DayWiseStats = {}\n",
    "    \n",
    "    for key in DayWiseDistribution.keys():\n",
    "        DayWiseStats[key] = GetDetailedStats(DayWiseDistribution[key])\n",
    "        \n",
    "        \n",
    "    return DayWiseStats"
   ]
  },
  {
   "cell_type": "code",
   "execution_count": 13,
   "metadata": {},
   "outputs": [],
   "source": [
    "def getDayWisePersonWiseDistribution(chatDataList):\n",
    "    '''\n",
    "    Input: list output from getSimplifiedChatData function\n",
    "    Output: Dictionary[Date in datetime type as key]: Dictionary[First Name as key]: ChatData for that Individual that day\n",
    "    '''\n",
    "    \n",
    "    DayWiseDistribution = getDayWiseDataDistribution(chatDataList)\n",
    "    \n",
    "    DayMemberDistribution = {}\n",
    "    \n",
    "    for key in DayWiseDistribution.keys():\n",
    "        DayMemberDistribution[key] = GetIndividualDataDistribution(DayWiseDistribution[key])\n",
    "        \n",
    "    return DayMemberDistribution\n",
    "    "
   ]
  },
  {
   "cell_type": "code",
   "execution_count": 14,
   "metadata": {},
   "outputs": [],
   "source": [
    "def getDayWisePersonWiseStats(chatDataList):\n",
    "    '''\n",
    "    Input: List output from getSimplifiedChatData function\n",
    "    Output: Dictionary[Date in datetime type as key]: Dictionary[First Name as key]: DetailedStats for that Individual that day\n",
    "    '''\n",
    "    \n",
    "    DayWiseDistribution = getDayWiseDataDistribution(chatDataList)\n",
    "    \n",
    "    DayMemberStats = {}\n",
    "    \n",
    "    for key in DayWiseDistribution.keys():\n",
    "        DayMemberStats[key] = getIndividualStats(DayWiseDistribution[key])\n",
    "        \n",
    "    return DayMemberStats"
   ]
  },
  {
   "cell_type": "code",
   "execution_count": 15,
   "metadata": {},
   "outputs": [],
   "source": [
    "Data = getSimplifiedChatData(fileName)"
   ]
  },
  {
   "cell_type": "code",
   "execution_count": 16,
   "metadata": {},
   "outputs": [],
   "source": [
    "a = getDayWiseDataDistribution(Data)"
   ]
  },
  {
   "cell_type": "code",
   "execution_count": 17,
   "metadata": {},
   "outputs": [],
   "source": [
    "b = getDayWiseStats(Data)"
   ]
  },
  {
   "cell_type": "code",
   "execution_count": 18,
   "metadata": {},
   "outputs": [],
   "source": [
    "c = getDayWisePersonWiseStats(Data)"
   ]
  },
  {
   "cell_type": "code",
   "execution_count": 19,
   "metadata": {},
   "outputs": [
    {
     "output_type": "execute_result",
     "data": {
      "text/plain": [
       "(5, 16, 80, 25, 3, 15, 1)"
      ]
     },
     "metadata": {},
     "execution_count": 19
    }
   ],
   "source": [
    "c[datetime(2020, 4, 3, 0, 0)][\"Apoorv\"]"
   ]
  },
  {
   "cell_type": "code",
   "execution_count": 20,
   "metadata": {},
   "outputs": [],
   "source": [
    "def getAllLinksStat(filename):\n",
    "    '''This function takes filename as input parameter\n",
    "    and returns a map with domain name as key & count as its value'''\n",
    "    \n",
    "    allChatDataSimplified = getSimplifiedChatData(filename)   #Getting simplified data\n",
    "    allLinksStat = {}                                          #variable to store all links count\n",
    "    \n",
    "    for eachChatData in allChatDataSimplified:\n",
    "        message = eachChatData[3]  \n",
    "        \n",
    "        domainName = extractDomainName(message)\n",
    "        \n",
    "        if domainName is not None:\n",
    "            if domainName in allLinksStat:\n",
    "                allLinksStat[domainName] = allLinksStat[domainName] + 1\n",
    "            else:\n",
    "                allLinksStat[domainName] = 1\n",
    "    \n",
    "    return allLinksStat"
   ]
  },
  {
   "cell_type": "code",
   "execution_count": null,
   "metadata": {},
   "outputs": [],
   "source": []
  },
  {
   "cell_type": "code",
   "execution_count": 36,
   "metadata": {},
   "outputs": [],
   "source": [
    "def getmentionNumber(message):\n",
    "    '''Input: message\n",
    "    Output: list of number which was mentioned\n",
    "    If no mentions, then list is empty'''\n",
    "\n",
    "    mentions = re.findall(\"@[0-9]{2}([0-9]{10})\", message)\n",
    "    return mentions"
   ]
  },
  {
   "cell_type": "code",
   "execution_count": 38,
   "metadata": {},
   "outputs": [],
   "source": [
    "def getMentionStat(chatDataList):\n",
    "    '''Input: output of getSimplifiedChatData\n",
    "    Output: dictionary with key -> person's name\n",
    "    value -> dictionary with number as key, count as value'''\n",
    "\n",
    "    mentionStat = {}\n",
    "\n",
    "    for eachChatData in chatDataList:\n",
    "\n",
    "        name = eachChatData[2].split()[0]\n",
    "        message = eachChatData[-1]\n",
    "\n",
    "        if name not in mentionStat:\n",
    "            mentionStat[name] = {}\n",
    "\n",
    "        mentions = getmentionNumber(message)\n",
    "\n",
    "        if len(mentions) != 0:\n",
    "            for eachMention in mentions:\n",
    "                if eachMention not in mentionStat[name]:\n",
    "                    mentionStat[name][eachMention] = 1\n",
    "                else:\n",
    "                    mentionStat[name][eachMention] = mentionStat[name][eachMention] + 1\n",
    "\n",
    "    return mentionStat"
   ]
  },
  {
   "cell_type": "code",
   "execution_count": 39,
   "metadata": {},
   "outputs": [],
   "source": [
    "mentionStat = getMentionStat(getSimplifiedChatData(fileName))"
   ]
  },
  {
   "cell_type": "code",
   "execution_count": 40,
   "metadata": {},
   "outputs": [
    {
     "output_type": "execute_result",
     "data": {
      "text/plain": [
       "{'Ashutosh': {'@919919132816': 10,\n",
       "  '@919423265640': 1,\n",
       "  '@918291474693': 17,\n",
       "  '@918454952360': 1,\n",
       "  '@919987106480': 9,\n",
       "  '@919987090669': 4,\n",
       "  '@918409198073': 8,\n",
       "  '@919694981689': 2,\n",
       "  '@919763738177': 3,\n",
       "  '@919491821345': 1,\n",
       "  '@919284992836': 2},\n",
       " 'Ayush': {'@918291474693': 195,\n",
       "  '@919987106480': 138,\n",
       "  '@918409198073': 115,\n",
       "  '@919987097014': 106,\n",
       "  '@919987090669': 16,\n",
       "  '@918454952360': 2,\n",
       "  '@919284992836': 46,\n",
       "  '@919763738177': 6,\n",
       "  '@919413006454': 1,\n",
       "  '@919987106422': 1},\n",
       " 'Apoorv': {'@919987097014': 46,\n",
       "  '@919919132816': 12,\n",
       "  '@919423265640': 1,\n",
       "  '@919987106480': 40,\n",
       "  '@918454952360': 6,\n",
       "  '@918409198073': 44,\n",
       "  '@919284992836': 20,\n",
       "  '@919987090669': 5,\n",
       "  '@919413006454': 1,\n",
       "  '@919491821345': 1,\n",
       "  '@919763738177': 2,\n",
       "  '@919987106422': 2},\n",
       " 'Vaibhav': {'@918409198073': 6,\n",
       "  '@919987106480': 5,\n",
       "  '@919919132816': 3,\n",
       "  '@918291474693': 6,\n",
       "  '@919987090669': 2,\n",
       "  '@918454952360': 2,\n",
       "  '@919987097014': 2,\n",
       "  '@919763738177': 1,\n",
       "  '@919987106422': 1},\n",
       " 'Diwakar': {'@919919132816': 17,\n",
       "  '@918291474693': 25,\n",
       "  '@919284992836': 3,\n",
       "  '@918409198073': 19,\n",
       "  '@918454952360': 7,\n",
       "  '@919987097014': 4,\n",
       "  '@919987106422': 5,\n",
       "  '@919763738177': 9,\n",
       "  '@918619494574': 2,\n",
       "  '@919987090669': 1},\n",
       " 'Ujjwal': {'@919987106480': 7,\n",
       "  '@919763738177': 5,\n",
       "  '@918291474693': 14,\n",
       "  '@919987097014': 10,\n",
       "  '@919919132816': 4,\n",
       "  '@919284992836': 13,\n",
       "  '@919987106422': 2,\n",
       "  '@919491821345': 1,\n",
       "  '@919987090669': 1},\n",
       " 'Geordi': {'@918291474693': 1, '@919284992836': 1},\n",
       " 'Pranav': {'@918409198073': 4,\n",
       "  '@919987097014': 7,\n",
       "  '@919987106422': 2,\n",
       "  '@919284992836': 2,\n",
       "  '@919987090669': 4,\n",
       "  '@919987106480': 1,\n",
       "  '@918454952360': 1},\n",
       " 'Upwan': {'@918409198073': 4,\n",
       "  '@919987097014': 4,\n",
       "  '@919919132816': 2,\n",
       "  '@919987106480': 2,\n",
       "  '@918454952360': 1},\n",
       " 'Vyanky': {'@919987090669': 1},\n",
       " 'Goldstudd': {'@919987097014': 1},\n",
       " 'Jagdeep': {},\n",
       " 'Aman': {}}"
      ]
     },
     "metadata": {},
     "execution_count": 40
    }
   ],
   "source": [
    "mentionStat"
   ]
  },
  {
   "cell_type": "code",
   "execution_count": 41,
   "metadata": {},
   "outputs": [],
   "source": [
    "line = '@918409198073 sdfsdv sdvsdv svsv @919876543210 scdsv'"
   ]
  },
  {
   "cell_type": "code",
   "execution_count": 42,
   "metadata": {},
   "outputs": [
    {
     "output_type": "execute_result",
     "data": {
      "text/plain": [
       "['8409198073', '9876543210']"
      ]
     },
     "metadata": {},
     "execution_count": 42
    }
   ],
   "source": [
    "re.findall(\"@[0-9]{2}([0-9]{10})\", line)"
   ]
  },
  {
   "cell_type": "code",
   "execution_count": null,
   "metadata": {},
   "outputs": [],
   "source": []
  }
 ],
 "metadata": {
  "kernelspec": {
   "name": "python385jvsc74a57bd0dca0ade3e726a953b501b15e8e990130d2b7799f14cfd9f4271676035ebe5511",
   "display_name": "Python 3.8.5 64-bit ('base': conda)"
  },
  "language_info": {
   "codemirror_mode": {
    "name": "ipython",
    "version": 3
   },
   "file_extension": ".py",
   "mimetype": "text/x-python",
   "name": "python",
   "nbconvert_exporter": "python",
   "pygments_lexer": "ipython3",
   "version": "3.8.5"
  }
 },
 "nbformat": 4,
 "nbformat_minor": 4
}