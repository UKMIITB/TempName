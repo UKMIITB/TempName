{
 "cells": [
  {
   "cell_type": "code",
   "execution_count": 1,
   "metadata": {},
   "outputs": [],
   "source": [
    "# All imports are in this cell\n",
    "import re\n",
    "from datetime import datetime"
   ]
  },
  {
   "cell_type": "code",
   "execution_count": 2,
   "metadata": {},
   "outputs": [],
   "source": [
    "# All constants are in this cell\n",
    "fileName = 'MachauWingiesChatData.txt'"
   ]
  },
  {
   "cell_type": "code",
   "execution_count": 74,
   "metadata": {},
   "outputs": [],
   "source": [
    "def getDateTimeNameMessage(line):\n",
    "    '''This function takes a line as input parameter\n",
    "    and returns a tuple in the following order\n",
    "    (date, time, name, message)\n",
    "    date as datetime type\n",
    "    time in hh:mm am/pm format as string type'''\n",
    "    \n",
    "    date = re.search(\"[0-9]{2}/[0-9]{2}/[0-9]{4}\", line)\n",
    "    time = re.search(\"[0-9]+:[0-9]{2}\\s[ap]m\", line)\n",
    "    name = re.search(\"\\s-\\s(.*?):\", line)\n",
    "    message = re.search(\"\\s-\\s.*:\\s(.+)\", line)\n",
    "    \n",
    "    if date is not None and time is not None and name is not None and message is not None:   # This line contains a new data\n",
    "        date = datetime.strptime(date.group(0), '%d/%m/%Y')\n",
    "        time = time.group(0)\n",
    "        name = name.group(1)\n",
    "        message = message.group(1)\n",
    "    \n",
    "    elif date is not None and time is not None and (name is None or message is None):  # Someone left a group message\n",
    "        date = None\n",
    "        time = None\n",
    "        name = None\n",
    "        message = None\n",
    "    \n",
    "    else:                           # This only contains message, continuation of previous message\n",
    "        date = None\n",
    "        time = None\n",
    "        name = None\n",
    "        message = line\n",
    "    \n",
    "    return (date, time, name, message)"
   ]
  },
  {
   "cell_type": "code",
   "execution_count": 75,
   "metadata": {},
   "outputs": [],
   "source": [
    "def getSimplifiedChatData(filename):\n",
    "    '''This function takes filename as input parameter\n",
    "    and returns a list of all chat data\n",
    "    with each value being a tuple in the order\n",
    "    (date, time, name, message)\n",
    "    \n",
    "    This function merges large messages which come in new line in chat data text file'''\n",
    "    \n",
    "    chatDataTxt = open(filename, 'r', encoding=\"utf8\") # opened as read only\n",
    "    chatDataList = []                 # to store and return the simplified data\n",
    "    \n",
    "    for eachLine in chatDataTxt:\n",
    "        dateTimeNameMsgTuple = getDateTimeNameMessage(eachLine)\n",
    "        \n",
    "        if dateTimeNameMsgTuple[0] is not None:          # New data found\n",
    "            chatDataList.append(dateTimeNameMsgTuple)\n",
    "        \n",
    "        elif dateTimeNameMsgTuple[-1] is None:           # Message is None i.e someone left a group. Skip this data\n",
    "            pass\n",
    "        \n",
    "        else:                                            # message continues from previous data\n",
    "            newMsgForPreviousData = chatDataList[-1][-1] + dateTimeNameMsgTuple[-1]\n",
    "            dateForPreviousData = chatDataList[-1][0]\n",
    "            timeForPreviousData = chatDataList[-1][1]\n",
    "            nameForPreviousData = chatDataList[-1][2]\n",
    "            \n",
    "            chatDataList[-1] = (dateForPreviousData, timeForPreviousData, nameForPreviousData, newMsgForPreviousData)\n",
    "    \n",
    "    return chatDataList"
   ]
  },
  {
   "cell_type": "code",
   "execution_count": 76,
   "metadata": {},
   "outputs": [],
   "source": [
    "def getAllParticipantsName(filename, includeCompleteName = False):\n",
    "    '''This function returns a list of names of all the group participants\n",
    "    Requirement is that they should have posted atleast a single message\n",
    "    Name returned is the name saved in persons whose data has been shared\n",
    "    \n",
    "    Pass the filename to this function\n",
    "    Optionally it accepts includeCompleteName parameter which if true returns complete name\n",
    "    else just first name is included'''\n",
    "    \n",
    "    allChatDataSimplified = getSimplifiedChatData(filename)  #Getting simplified data\n",
    "    allChatParticipants = set()                          #varible of set type to store all participants name\n",
    "    \n",
    "    for eachChatData in allChatDataSimplified:\n",
    "        name = eachChatData[2]\n",
    "        \n",
    "        if includeCompleteName:                          #full name is required\n",
    "            pass\n",
    "        else:                                            #only first name is required\n",
    "            name = name.split()[0]                       \n",
    "        \n",
    "        allChatParticipants.add(name)\n",
    "    \n",
    "    return list(allChatParticipants)  "
   ]
  },
  {
   "cell_type": "code",
   "execution_count": 77,
   "metadata": {},
   "outputs": [],
   "source": [
    "def GetBasicStats(chatDataList):\n",
    "    ''' Input: list output from getSimplifiedChatData function\n",
    "        Output: tuples of general stats (number of messages, Chat duration, total number of characters in\n",
    "                message(including spaces), total number of words, total number of media content) \n",
    "    '''\n",
    "    \n",
    "    nMsg = len(chatDataList)\n",
    "    ChatDuration = (chatDataList[-1][0] - chatDataList[0][0]).days + 1\n",
    "    \n",
    "    nCharacters = 0 #including spaces\n",
    "    nWords = 0\n",
    "    nMedia = 0\n",
    "    \n",
    "    for item in chatDataList:\n",
    "        nCharacters = nCharacters + len(item[3])\n",
    "        nWords = nWords + len(item[3].split())\n",
    "        if item[3] == \"<Media omitted>\":\n",
    "            nMedia = nMedia + 1\n",
    "        \n",
    "        \n",
    "    \n",
    "    return (nMsg, ChatDuration, nCharacters, nWords, nMedia)"
   ]
  },
  {
   "cell_type": "code",
   "execution_count": 78,
   "metadata": {},
   "outputs": [],
   "source": [
    "def GetDetailedStats(chatDataList):\n",
    "    '''\n",
    "    Input: list output from getSimplifiedChatData function\n",
    "    Output: tuple (AvgMsgPerDay, AvgCharPerMsg, AvgCharPerDay, LenLongestMsg, AvgWordsPerMsg, AvgWordsPerDay, AvgMediaPerDay)\n",
    "    '''\n",
    "    \n",
    "    (nMsg, ChatDuration, nCharacters, nWords, nMedia) = GetBasicStats(chatDataList)\n",
    "    \n",
    "    AvgMsgPerDay = int(nMsg/ChatDuration)\n",
    "    AvgCharPerMsg = int(nCharacters/nMsg)\n",
    "    AvgCharPerDay = int(AvgMsgPerDay*AvgCharPerMsg)\n",
    "    AvgWordsPerMsg = int(nWords/nMsg)\n",
    "    AvgWordsPerDay = int(AvgWordsPerMsg*AvgMsgPerDay)\n",
    "    AvgMediaPerDay = int(nMedia/ChatDuration)\n",
    "    \n",
    "    LenLongestMsg = 0  \n",
    "    for item in chatDataList:\n",
    "        LenLongestMsg = max(LenLongestMsg, len(item[3]))\n",
    "        \n",
    "        \n",
    "    return (AvgMsgPerDay, AvgCharPerMsg, AvgCharPerDay, LenLongestMsg, AvgWordsPerMsg, AvgWordsPerDay, AvgMediaPerDay)"
   ]
  },
  {
   "cell_type": "code",
   "execution_count": 79,
   "metadata": {},
   "outputs": [],
   "source": [
    "def GetIndividualDataDistribution(chatDataList):\n",
    "    '''\n",
    "    Input: list output from getSimplifiedChatData function\n",
    "    output: Dictionary[First Name as key]: ChatData for that Individual\n",
    "    '''\n",
    "    MembersData = {}\n",
    "    \n",
    "    \n",
    "    for item in chatDataList:\n",
    "        firstName = item[2].split()[0]\n",
    "        if firstName not in MembersData:\n",
    "            MembersData[firstName] = []\n",
    "            \n",
    "        MembersData[firstName].append(item)\n",
    "        \n",
    "    \n",
    "    \n",
    "    \n",
    "    return MembersData\n",
    "    "
   ]
  },
  {
   "cell_type": "code",
   "execution_count": 80,
   "metadata": {},
   "outputs": [],
   "source": [
    "def getIndividualStats(chatDataList):\n",
    "    '''\n",
    "    Input: list output from getSimplifiedChatData function\n",
    "    Output: Dictionary[First Name as key]: Detailed Stats of chat for that Individual\n",
    "    '''\n",
    "    \n",
    "    MembersData = GetIndividualDataDistribution(chatDataList)\n",
    "    \n",
    "    IndividualStats = {}\n",
    "    \n",
    "    for keys in MembersData.keys():\n",
    "        IndividualStats[keys] = GetDetailedStats(MembersData[keys])\n",
    "        \n",
    "    return IndividualStats\n",
    "    "
   ]
  },
  {
   "cell_type": "code",
   "execution_count": 81,
   "metadata": {},
   "outputs": [],
   "source": [
    "def getDayWiseDataDistribution(chatDataList):\n",
    "    '''\n",
    "    Input: list output from getSimplifiedChatData function\n",
    "    Output: Dictionary[Date in datetime as key]: ChatData for that Date\n",
    "    '''\n",
    "    \n",
    "    DayWiseDistribution = {}\n",
    "    \n",
    "    for item in chatDataList:\n",
    "        if item[0] not in DayWiseDistribution:\n",
    "            DayWiseDistribution[item[0]] = []\n",
    "            \n",
    "        DayWiseDistribution[item[0]].append(item)\n",
    "        \n",
    "    return DayWiseDistribution\n",
    "        \n",
    "    \n",
    "    "
   ]
  },
  {
   "cell_type": "code",
   "execution_count": 88,
   "metadata": {},
   "outputs": [],
   "source": [
    "def getDayWiseStats(chatDataList):\n",
    "    '''\n",
    "    Input: list output from getSimplifiedChatData function\n",
    "    Output: Dictionary[Date in datetime type as key]: Detailed Stats of chat for that Date\n",
    "    '''\n",
    "    DayWiseDistribution = getDayWiseDataDistribution(chatDataList)\n",
    "    \n",
    "    DayWiseStats = {}\n",
    "    \n",
    "    for key in DayWiseDistribution.keys():\n",
    "        DayWiseStats[key] = GetDetailedStats(DayWiseDistribution[key])\n",
    "        \n",
    "        \n",
    "    return DayWiseStats"
   ]
  },
  {
   "cell_type": "code",
   "execution_count": 94,
   "metadata": {},
   "outputs": [],
   "source": [
    "def getDayWisePersonWiseDistribution(chatDataList):\n",
    "    '''\n",
    "    Input: list output from getSimplifiedChatData function\n",
    "    Output: Dictionary[Date in datetime type as key]: Dictionary[First Name as key]: ChatData for that Individual that day\n",
    "    '''\n",
    "    \n",
    "    DayWiseDistribution = getDayWiseDataDistribution(chatDataList)\n",
    "    \n",
    "    DayMemberDistribution = {}\n",
    "    \n",
    "    for key in DayWiseDistribution.keys():\n",
    "        DayMemberDistribution[key] = GetIndividualDataDistribution(DayWiseDistribution[key])\n",
    "        \n",
    "    return DayMemberDistribution\n",
    "    "
   ]
  },
  {
   "cell_type": "code",
   "execution_count": 95,
   "metadata": {},
   "outputs": [],
   "source": [
    "def getDayWisePersonWiseStats(chatDataList):\n",
    "    '''\n",
    "    Input: list output from getSimplifiedChatData function\n",
    "    Output: Dictionary[Date in datetime type as key]: Dictionary[First Name as key]: DetailedStats for that Individual that day\n",
    "    '''\n",
    "    \n",
    "    DayWiseDistribution = getDayWiseDataDistribution(chatDataList)\n",
    "    \n",
    "    DayMemberStats = {}\n",
    "    \n",
    "    for key in DayWiseDistribution.keys():\n",
    "        DayMemberStats[key] = getIndividualStats(DayWiseDistribution[key])\n",
    "        \n",
    "    return DayMemberStats"
   ]
  },
  {
   "cell_type": "code",
   "execution_count": 96,
   "metadata": {},
   "outputs": [],
   "source": [
    "Data = getSimplifiedChatData(fileName)"
   ]
  },
  {
   "cell_type": "code",
   "execution_count": 51,
   "metadata": {},
   "outputs": [],
   "source": [
    "a = getDayWiseDataDistribution(Data)"
   ]
  },
  {
   "cell_type": "code",
   "execution_count": 64,
   "metadata": {},
   "outputs": [],
   "source": [
    "b = getDayWiseStats(Data)"
   ]
  },
  {
   "cell_type": "code",
   "execution_count": 97,
   "metadata": {},
   "outputs": [],
   "source": [
    "c = getDayWisePersonWiseStats(Data)"
   ]
  },
  {
   "cell_type": "code",
   "execution_count": 101,
   "metadata": {},
   "outputs": [
    {
     "data": {
      "text/plain": [
       "(5, 16, 80, 25, 3, 15, 1)"
      ]
     },
     "execution_count": 101,
     "metadata": {},
     "output_type": "execute_result"
    }
   ],
   "source": [
    "c[datetime(2020, 4, 3, 0, 0)][\"Apoorv\"]"
   ]
  },
  {
   "cell_type": "code",
   "execution_count": null,
   "metadata": {},
   "outputs": [],
   "source": []
  }
 ],
 "metadata": {
  "kernelspec": {
   "display_name": "Python 3",
   "language": "python",
   "name": "python3"
  },
  "language_info": {
   "codemirror_mode": {
    "name": "ipython",
    "version": 3
   },
   "file_extension": ".py",
   "mimetype": "text/x-python",
   "name": "python",
   "nbconvert_exporter": "python",
   "pygments_lexer": "ipython3",
   "version": "3.8.3"
  }
 },
 "nbformat": 4,
 "nbformat_minor": 4
}
