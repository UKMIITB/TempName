{
 "cells": [
  {
   "cell_type": "code",
   "execution_count": 25,
   "metadata": {},
   "outputs": [],
   "source": [
    "# All imports are in this cell\n",
    "import re"
   ]
  },
  {
   "cell_type": "code",
   "execution_count": 26,
   "metadata": {},
   "outputs": [],
   "source": [
    "# All constants are in this cell\n",
    "fileName = 'MachauWingiesChatData.txt'"
   ]
  },
  {
   "cell_type": "code",
   "execution_count": 27,
   "metadata": {},
   "outputs": [],
   "source": [
    "def getDateTimeNameMessage(line):\n",
    "    '''This function takes a line as input parameter\n",
    "    and returns a tuple in the following order\n",
    "    (date, time, name, message)\n",
    "    date in dd/mm/yyyy format as string type\n",
    "    time in hh:mm am/pm format as string type'''\n",
    "    \n",
    "    date = re.search(\"[0-9]{2}/[0-9]{2}/[0-9]{4}\", line)\n",
    "    time = re.search(\"[0-9]+:[0-9]{2}\\s[ap]m\", line)\n",
    "    name = re.search(\"\\s-\\s(.*?):\", line)\n",
    "    message = re.search(\"\\s-\\s.*:\\s(.+)\", line)\n",
    "    \n",
    "    if date is not None and time is not None and name is not None and message is not None:   # This line contains a new data\n",
    "        date = date.group(0)\n",
    "        time = time.group(0)\n",
    "        name = name.group(1)\n",
    "        message = message.group(1)\n",
    "    \n",
    "    elif date is not None and time is not None and (name is None or message is None):  # Someone left a group message\n",
    "        date = None\n",
    "        time = None\n",
    "        name = None\n",
    "        message = None\n",
    "    \n",
    "    else:                           # This only contains message, continuation of previous message\n",
    "        date = None\n",
    "        time = None\n",
    "        name = None\n",
    "        message = line\n",
    "    \n",
    "    return (date, time, name, message)"
   ]
  },
  {
   "cell_type": "code",
   "execution_count": 28,
   "metadata": {},
   "outputs": [],
   "source": [
    "def getSimplifiedChatData(filename):\n",
    "    '''This function takes filename as input parameter\n",
    "    and returns a list of all chat data\n",
    "    with each value being a tuple in the order\n",
    "    (date, time, name, message)\n",
    "    \n",
    "    This function merges large messages which come in new line in chat data text file'''\n",
    "    \n",
    "    chatDataTxt = open(filename, 'r') # opened as read only\n",
    "    chatDataList = []                 # to store and return the simplified data\n",
    "    \n",
    "    for eachLine in chatDataTxt:\n",
    "        dateTimeNameMsgTuple = getDateTimeNameMessage(eachLine)\n",
    "        \n",
    "        if dateTimeNameMsgTuple[0] is not None:          # New data found\n",
    "            chatDataList.append(dateTimeNameMsgTuple)\n",
    "        \n",
    "        elif dateTimeNameMsgTuple[-1] is None:           # Message is None i.e someone left a group. Skip this data\n",
    "            pass\n",
    "        \n",
    "        else:                                            # message continues from previous data\n",
    "            newMsgForPreviousData = chatDataList[-1][-1] + dateTimeNameMsgTuple[-1]\n",
    "            dateForPreviousData = chatDataList[-1][0]\n",
    "            timeForPreviousData = chatDataList[-1][1]\n",
    "            nameForPreviousData = chatDataList[-1][2]\n",
    "            \n",
    "            chatDataList[-1] = (dateForPreviousData, timeForPreviousData, nameForPreviousData, newMsgForPreviousData)\n",
    "    \n",
    "    return chatDataList"
   ]
  },
  {
   "cell_type": "code",
   "execution_count": 29,
   "metadata": {},
   "outputs": [],
   "source": [
    "def getAllParticipantsName(filename, includeCompleteName = False):\n",
    "    '''This function returns a list of names of all the group participants\n",
    "    Requirement is that they should have posted atleast a single message\n",
    "    Name returned is the name saved in persons whose data has been shared\n",
    "    \n",
    "    Pass the filename to this function\n",
    "    Optionally it accepts includeCompleteName parameter which if true returns complete name\n",
    "    else just first name is included'''\n",
    "    \n",
    "    allChatDataSimplified = getSimplifiedData(filename)  #Getting simplified data\n",
    "    allChatParticipants = set()                          #varible of set type to store all participants name\n",
    "    \n",
    "    for eachChatData in allChatDataSimplified:\n",
    "        name = eachChatData[2]\n",
    "        \n",
    "        if includeCompleteName:                          #full name is required\n",
    "            pass\n",
    "        else:                                            #only first name is required\n",
    "            name = name.split()[0]                       \n",
    "        \n",
    "        allChatParticipants.add(name)\n",
    "    \n",
    "    return list(allChatParticipants)  "
   ]
  },
  {
   "cell_type": "code",
   "execution_count": 30,
   "metadata": {},
   "outputs": [],
   "source": [
    "def extractDomainName(line):\n",
    "    '''This function extracts and returns domain name of url \n",
    "    from the given sentence passed as parameter\n",
    "    If no url is present, it returns None'''\n",
    "    \n",
    "    link = re.search(\"https://(.+?)/\", line)  #if url is present, extracting till first '/' after https\n",
    "    \n",
    "    if link is None:\n",
    "        return None\n",
    "    \n",
    "    link = link.group(1)\n",
    "    \n",
    "    linkWords = link.split('.')\n",
    "    \n",
    "    if len(linkWords) > 2:                     #first word mostly like is www\n",
    "        return linkWords[1]\n",
    "    else:\n",
    "        return linkWords[0]                    #first word itself is the domain name"
   ]
  },
  {
   "cell_type": "code",
   "execution_count": 31,
   "metadata": {},
   "outputs": [],
   "source": [
    "def getAllLinksStat(filename):\n",
    "    '''This function takes filename as input parameter\n",
    "    and returns a map with domain name as key & count as its value'''\n",
    "    \n",
    "    allChatDataSimplified = getSimplifiedChatData(filename)   #Getting simplified data\n",
    "    allLinksStat = {}                                          #variable to store all links count\n",
    "    \n",
    "    for eachChatData in allChatDataSimplified:\n",
    "        message = eachChatData[3]  \n",
    "        \n",
    "        domainName = extractDomainName(message)\n",
    "        \n",
    "        if domainName is not None:\n",
    "            if domainName in allLinksStat:\n",
    "                allLinksStat[domainName] = allLinksStat[domainName] + 1\n",
    "            else:\n",
    "                allLinksStat[domainName] = 1\n",
    "    \n",
    "    return allLinksStat"
   ]
  }
 ],
 "metadata": {
  "kernelspec": {
   "display_name": "Python 3",
   "language": "python",
   "name": "python3"
  },
  "language_info": {
   "codemirror_mode": {
    "name": "ipython",
    "version": 3
   },
   "file_extension": ".py",
   "mimetype": "text/x-python",
   "name": "python",
   "nbconvert_exporter": "python",
   "pygments_lexer": "ipython3",
   "version": "3.8.5"
  }
 },
 "nbformat": 4,
 "nbformat_minor": 4
}
