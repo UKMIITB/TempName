{
 "cells": [
  {
   "cell_type": "code",
   "execution_count": 1,
   "metadata": {},
   "outputs": [],
   "source": [
    "# All imports are in this cell\n",
    "import re\n",
    "from datetime import datetime"
   ]
  },
  {
   "cell_type": "code",
   "execution_count": 2,
   "metadata": {},
   "outputs": [],
   "source": [
    "# All constants are in this cell\n",
    "fileName = 'MachauWingiesChatData.txt'"
   ]
  },
  {
   "cell_type": "code",
   "execution_count": 3,
   "metadata": {},
   "outputs": [],
   "source": [
    "def getDateTimeNameMessage(line):\n",
    "    '''This function takes a line as input parameter\n",
    "    and returns a tuple in the following order\n",
    "    (date, time, name, message)\n",
    "    date in dd/mm/yyyy format as string type\n",
    "    time in hh:mm am/pm format as string type'''\n",
    "    \n",
    "    date = re.search(\"[0-9]{2}/[0-9]{2}/[0-9]{4}\", line)\n",
    "    time = re.search(\"[0-9]+:[0-9]{2}\\s[ap]m\", line)\n",
    "    name = re.search(\"\\s-\\s(.*?):\", line)\n",
    "    message = re.search(\"\\s-\\s.*:\\s(.+)\", line)\n",
    "    \n",
    "    if date is not None and time is not None and name is not None and message is not None:   # This line contains a new data\n",
    "        date = date.group(0)\n",
    "        time = time.group(0)\n",
    "        name = name.group(1)\n",
    "        message = message.group(1)\n",
    "    \n",
    "    elif date is not None and time is not None and (name is None or message is None):  # Someone left a group message\n",
    "        date = None\n",
    "        time = None\n",
    "        name = None\n",
    "        message = None\n",
    "    \n",
    "    else:                           # This only contains message, continuation of previous message\n",
    "        date = None\n",
    "        time = None\n",
    "        name = None\n",
    "        message = line\n",
    "    \n",
    "    return (date, time, name, message)"
   ]
  },
  {
   "cell_type": "code",
   "execution_count": 31,
   "metadata": {},
   "outputs": [],
   "source": [
    "def getSimplifiedChatData(filename):\n",
    "    '''This function takes filename as input parameter\n",
    "    and returns a list of all chat data\n",
    "    with each value being a tuple in the order\n",
    "    (date, time, name, message)\n",
    "    \n",
    "    This function merges large messages which come in new line in chat data text file'''\n",
    "    \n",
    "    chatDataTxt = open(filename, 'r', encoding=\"utf8\") # opened as read only\n",
    "    chatDataList = []                 # to store and return the simplified data\n",
    "    \n",
    "    for eachLine in chatDataTxt:\n",
    "        dateTimeNameMsgTuple = getDateTimeNameMessage(eachLine)\n",
    "        \n",
    "        if dateTimeNameMsgTuple[0] is not None:          # New data found\n",
    "            chatDataList.append(dateTimeNameMsgTuple)\n",
    "        \n",
    "        elif dateTimeNameMsgTuple[-1] is None:           # Message is None i.e someone left a group. Skip this data\n",
    "            pass\n",
    "        \n",
    "        else:                                            # message continues from previous data\n",
    "            newMsgForPreviousData = chatDataList[-1][-1] + dateTimeNameMsgTuple[-1]\n",
    "            dateForPreviousData = chatDataList[-1][0]\n",
    "            timeForPreviousData = chatDataList[-1][1]\n",
    "            nameForPreviousData = chatDataList[-1][2]\n",
    "            \n",
    "            chatDataList[-1] = (dateForPreviousData, timeForPreviousData, nameForPreviousData, newMsgForPreviousData)\n",
    "    \n",
    "    return chatDataList"
   ]
  },
  {
   "cell_type": "code",
   "execution_count": 89,
   "metadata": {},
   "outputs": [],
   "source": [
    "def GetBasicStats(chatDataList):\n",
    "    ''' Input: list output from getSimplifiedData function\n",
    "        Output: tuples of general stats (number of messages, Chat duration, total number of characters in message(including spaces)) \n",
    "    '''\n",
    "    \n",
    "    nMsg = len(chatDataList)\n",
    "    ChatStartDate = datetime.strptime(chatDataList[0][0], '%d/%m/%Y')\n",
    "    ChatEndDate = datetime.strptime(chatDataList[-1][0], '%d/%m/%Y')\n",
    "    ChatDuration = (datetime.strptime(chatDataList[-1][0], '%d/%m/%Y') - datetime.strptime(Data[0][0], '%d/%m/%Y')).days\n",
    "    \n",
    "    nCharacters = 0 #including spaces\n",
    "    \n",
    "    for item in chatDataList:\n",
    "        nCharacters = nCharacters + len(item[3])\n",
    "        \n",
    "    \n",
    "    return (nMsg, ChatDuration, nCharacters)"
   ]
  },
  {
   "cell_type": "code",
   "execution_count": null,
   "metadata": {},
   "outputs": [],
   "source": [
    "def GetIndividualStats(chatDataList):\n",
    "    '''\n",
    "    Input: list output from getSimplifiedData function\n",
    "    output: Dictionary {'member': members detailed stats}\n",
    "    '''\n",
    "    MembersData = {}\n",
    "    \n",
    "    \n",
    "    for item in chatDataList:\n",
    "        if item[2] not in MembersData:\n",
    "            MembersData[item[2]] = []\n",
    "            \n",
    "        MembersData[item[2]].append(item)\n",
    "        \n",
    "    IndividualStats = {}\n",
    "    for keys in MembersData.keys():\n",
    "        IndividualStats{keys} = GetDetailedStats(MembersData[keys])\n",
    "    \n",
    "    \n",
    "    return IndividualStats         \n",
    "            \n",
    "    \n",
    "    "
   ]
  },
  {
   "cell_type": "code",
   "execution_count": 117,
   "metadata": {},
   "outputs": [],
   "source": [
    "def GetDetailedStats(chatDataList):\n",
    "    '''\n",
    "    Input: list output from getSimplifiedData function\n",
    "    Output: tuple (AvgMsgPerDay, AvgCharPerMsg, AvgCharPerDay, LenLongestMsg)\n",
    "    '''\n",
    "    \n",
    "    (nMsg, ChatDuration, nCharacters) = GetBasicStats(chatDataList)\n",
    "    \n",
    "    AvgMsgPerDay = nMsg/ChatDuration\n",
    "    AvgCharPerMsg = nCharacters/nMsg\n",
    "    AvgCharPerDay = AvgMsgPerDay*AvgCharPerMsg\n",
    "    \n",
    "    LenLongestMsg = 0  \n",
    "    for item in chatDataList:\n",
    "        LenLongestMsg = max(LenLongestMsg, len(item[3]))\n",
    "        \n",
    "        \n",
    "    return (AvgMsgPerDay, AvgCharPerMsg, AvgCharPerDay, LenLongestMsg)"
   ]
  },
  {
   "cell_type": "code",
   "execution_count": null,
   "metadata": {},
   "outputs": [],
   "source": []
  },
  {
   "cell_type": "code",
   "execution_count": null,
   "metadata": {},
   "outputs": [],
   "source": []
  },
  {
   "cell_type": "code",
   "execution_count": null,
   "metadata": {},
   "outputs": [],
   "source": []
  },
  {
   "cell_type": "code",
   "execution_count": null,
   "metadata": {},
   "outputs": [],
   "source": []
  },
  {
   "cell_type": "code",
   "execution_count": 29,
   "metadata": {},
   "outputs": [],
   "source": [
    "def getAllParticipantsName(filename, includeCompleteName = False):\n",
    "    '''This function returns a list of names of all the group participants\n",
    "    Requirement is that they should have posted atleast a single message\n",
    "    Name returned is the name saved in persons whose data has been shared\n",
    "    \n",
    "    Pass the filename to this function\n",
    "    Optionally it accepts includeCompleteName parameter which if true returns complete name\n",
    "    else just first name is included'''\n",
    "    \n",
    "    allChatDataSimplified = getSimplifiedData(filename)  #Getting simplified data\n",
    "    allChatParticipants = set()                          #varible of set type to store all participants name\n",
    "    \n",
    "    for eachChatData in allChatDataSimplified:\n",
    "        name = eachChatData[2]\n",
    "        \n",
    "        if includeCompleteName:                          #full name is required\n",
    "            pass\n",
    "        else:                                            #only first name is required\n",
    "            name = name.split()[0]                       \n",
    "        \n",
    "        allChatParticipants.add(name)\n",
    "    \n",
    "    return list(allChatParticipants)  "
   ]
  }
 ],
 "metadata": {
  "kernelspec": {
   "display_name": "Python 3",
   "language": "python",
   "name": "python3"
  },
  "language_info": {
   "codemirror_mode": {
    "name": "ipython",
    "version": 3
   },
   "file_extension": ".py",
   "mimetype": "text/x-python",
   "name": "python",
   "nbconvert_exporter": "python",
   "pygments_lexer": "ipython3",
   "version": "3.8.3"
  }
 },
 "nbformat": 4,
 "nbformat_minor": 4
}
