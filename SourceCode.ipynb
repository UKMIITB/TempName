{
 "cells": [
  {
   "cell_type": "code",
   "execution_count": 65,
   "metadata": {},
   "outputs": [],
   "source": [
    "# All imports are in this cell\n",
    "import re"
   ]
  },
  {
   "cell_type": "code",
   "execution_count": 66,
   "metadata": {},
   "outputs": [],
   "source": [
    "# All constants are in this cell\n",
    "fileName = 'MachauWingiesChatData.txt'"
   ]
  },
  {
   "cell_type": "code",
   "execution_count": 67,
   "metadata": {},
   "outputs": [],
   "source": [
    "def getDateTimeNameMessage(line):\n",
    "    '''This function takes a line as input parameter\n",
    "    and returns a tuple in the following order\n",
    "    (date, time, name, message)\n",
    "    date in dd/mm/yyyy format as string type\n",
    "    time in hh:mm am/pm format as string type'''\n",
    "    \n",
    "    date = re.search(\"[0-9]{2}/[0-9]{2}/[0-9]{4}\", line)\n",
    "    time = re.search(\"[0-9]+:[0-9]{2}\\s[ap]m\", line)\n",
    "    name = re.search(\"\\s-\\s(.*):\", line)\n",
    "    message = re.search(\"\\s-\\s.*:\\s(.+)\", line)\n",
    "    \n",
    "    if date is not None and time is not None and name is not None and message is not None:   # This line contains a new data\n",
    "        date = date.group(0)\n",
    "        time = time.group(0)\n",
    "        name = name.group(1)\n",
    "        message = message.group(1)\n",
    "    \n",
    "    elif date is not None and time is not None and (name is None or message is None):  # Someone left a group message\n",
    "        date = None\n",
    "        time = None\n",
    "        name = None\n",
    "        message = None\n",
    "    \n",
    "    else:                           # This only contains message, continuation of previous message\n",
    "        date = None\n",
    "        time = None\n",
    "        name = None\n",
    "        message = line\n",
    "    \n",
    "    return (date, time, name, message)"
   ]
  },
  {
   "cell_type": "code",
   "execution_count": 68,
   "metadata": {},
   "outputs": [],
   "source": [
    "def getSimplifiedData(filename):\n",
    "    '''This function takes filename as input parameter\n",
    "    and returns a list of all chat data\n",
    "    with each value being a tuple in the order\n",
    "    (date, time, name, message)\n",
    "    \n",
    "    This function merges large messages which come in new line in chat data text file'''\n",
    "    \n",
    "    chatDataTxt = open(filename, 'r') # opened as read only\n",
    "    chatDataList = []                 # to store and return the simplified data\n",
    "    \n",
    "    for eachLine in chatDataTxt:\n",
    "        dateTimeNameMsgTuple = getDateTimeNameMessage(eachLine)\n",
    "        \n",
    "        if dateTimeNameMsgTuple[0] is not None:          # New data found\n",
    "            chatDataList.append(dateTimeNameMsgTuple)\n",
    "        \n",
    "        elif dateTimeNameMsgTuple[-1] is None:           # Message is None i.e someone left a group. Skip this data\n",
    "            pass\n",
    "        \n",
    "        else:                                            # message continues from previous data\n",
    "            newMsgForPreviousData = chatDataList[-1][-1] + dateTimeNameMsgTuple[-1]\n",
    "            dateForPreviousData = chatDataList[-1][0]\n",
    "            timeForPreviousData = chatDataList[-1][1]\n",
    "            nameForPreviousData = chatDataList[-1][2]\n",
    "            \n",
    "            chatDataList[-1] = (dateForPreviousData, timeForPreviousData, nameForPreviousData, newMsgForPreviousData)\n",
    "    \n",
    "    return chatDataList"
   ]
  }
 ],
 "metadata": {
  "kernelspec": {
   "display_name": "Python 3",
   "language": "python",
   "name": "python3"
  },
  "language_info": {
   "codemirror_mode": {
    "name": "ipython",
    "version": 3
   },
   "file_extension": ".py",
   "mimetype": "text/x-python",
   "name": "python",
   "nbconvert_exporter": "python",
   "pygments_lexer": "ipython3",
   "version": "3.8.5"
  }
 },
 "nbformat": 4,
 "nbformat_minor": 4
}
