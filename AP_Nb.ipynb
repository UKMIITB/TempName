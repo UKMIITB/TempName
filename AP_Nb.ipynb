{
 "cells": [
  {
   "cell_type": "code",
   "execution_count": 1,
   "metadata": {},
   "outputs": [],
   "source": [
    "# All imports are in this cell\n",
    "import re\n",
    "from datetime import datetime\n",
    "import matplotlib.pyplot as plt\n",
    "import numpy as np\n",
    "import os"
   ]
  },
  {
   "cell_type": "code",
   "execution_count": 2,
   "metadata": {},
   "outputs": [],
   "source": [
    "# All constants are in this cell\n",
    "fileName = 'MachauWingiesChatData.txt'"
   ]
  },
  {
   "cell_type": "code",
   "execution_count": 3,
   "metadata": {},
   "outputs": [],
   "source": [
    "def getDateTimeNameMessage(line):\n",
    "    '''This function takes a line as input parameter\n",
    "    and returns a tuple in the following order\n",
    "    (date, time, name, message)\n",
    "    date as datetime type\n",
    "    time in hh:mm am/pm format as string type'''\n",
    "    \n",
    "    date = re.search(\"[0-9]{2}/[0-9]{2}/[0-9]{4}\", line)\n",
    "    time = re.search(\"[0-9]+:[0-9]{2}\\s[ap]m\", line)\n",
    "    name = re.search(\"\\s-\\s(.*?):\", line)\n",
    "    message = re.search(\"\\s-\\s.*:\\s(.+)\", line)\n",
    "    \n",
    "    if date is not None and time is not None and name is not None and message is not None:   # This line contains a new data\n",
    "        date = datetime.strptime(date.group(0), '%d/%m/%Y')\n",
    "        time = time.group(0)\n",
    "        name = name.group(1)\n",
    "        message = message.group(1)\n",
    "    \n",
    "    elif date is not None and time is not None and (name is None or message is None):  # Someone left a group message\n",
    "        date = None\n",
    "        time = None\n",
    "        name = None\n",
    "        message = None\n",
    "    \n",
    "    else:                           # This only contains message, continuation of previous message\n",
    "        date = None\n",
    "        time = None\n",
    "        name = None\n",
    "        message = line\n",
    "    \n",
    "    return (date, time, name, message)"
   ]
  },
  {
   "cell_type": "code",
   "execution_count": 4,
   "metadata": {},
   "outputs": [],
   "source": [
    "def getSimplifiedChatData(filename):\n",
    "    '''This function takes filename as input parameter\n",
    "    and returns a list of all chat data\n",
    "    with each value being a tuple in the order\n",
    "    (date, time, name, message)\n",
    "    \n",
    "    This function merges large messages which come in new line in chat data text file'''\n",
    "    \n",
    "    chatDataTxt = open(filename, 'r', encoding=\"utf8\") # opened as read only\n",
    "    chatDataList = []                 # to store and return the simplified data\n",
    "    \n",
    "    for eachLine in chatDataTxt:\n",
    "        dateTimeNameMsgTuple = getDateTimeNameMessage(eachLine)\n",
    "        \n",
    "        if dateTimeNameMsgTuple[0] is not None:          # New data found\n",
    "            chatDataList.append(dateTimeNameMsgTuple)\n",
    "        \n",
    "        elif dateTimeNameMsgTuple[-1] is None:           # Message is None i.e someone left a group. Skip this data\n",
    "            pass\n",
    "        \n",
    "        else:                                            # message continues from previous data\n",
    "            newMsgForPreviousData = chatDataList[-1][-1] + dateTimeNameMsgTuple[-1]\n",
    "            dateForPreviousData = chatDataList[-1][0]\n",
    "            timeForPreviousData = chatDataList[-1][1]\n",
    "            nameForPreviousData = chatDataList[-1][2]\n",
    "            \n",
    "            chatDataList[-1] = (dateForPreviousData, timeForPreviousData, nameForPreviousData, newMsgForPreviousData)\n",
    "    \n",
    "    return chatDataList"
   ]
  },
  {
   "cell_type": "code",
   "execution_count": 5,
   "metadata": {},
   "outputs": [],
   "source": [
    "def getAllParticipantsName(filename, includeCompleteName = False):\n",
    "    '''This function returns a list of names of all the group participants\n",
    "    Requirement is that they should have posted atleast a single message\n",
    "    Name returned is the name saved in persons whose data has been shared\n",
    "    \n",
    "    Pass the filename to this function\n",
    "    Optionally it accepts includeCompleteName parameter which if true returns complete name\n",
    "    else just first name is included'''\n",
    "    \n",
    "    allChatDataSimplified = getSimplifiedChatData(filename)  #Getting simplified data\n",
    "    allChatParticipants = set()                          #varible of set type to store all participants name\n",
    "    \n",
    "    for eachChatData in allChatDataSimplified:\n",
    "        name = eachChatData[2]\n",
    "        \n",
    "        if includeCompleteName:                          #full name is required\n",
    "            pass\n",
    "        else:                                            #only first name is required\n",
    "            name = name.split()[0]                       \n",
    "        \n",
    "        allChatParticipants.add(name)\n",
    "    \n",
    "    return list(allChatParticipants)  "
   ]
  },
  {
   "cell_type": "code",
   "execution_count": 6,
   "metadata": {},
   "outputs": [],
   "source": [
    "def GetBasicStats(chatDataList):\n",
    "    ''' Input: list output from getSimplifiedChatData function\n",
    "        Output: tuples of general stats (nMsg, ChatDuration, nCharacters, nWords, nMedia, AvgMsgPerDay, AvgCharPerMsg, \n",
    "                                        AvgCharPerDay, LenLongestMsg, AvgWordsPerMsg, AvgWordsPerDay, AvgMediaPerDay)\n",
    "    '''\n",
    "    \n",
    "    nMsg = len(chatDataList)\n",
    "    ChatDuration = (chatDataList[-1][0] - chatDataList[0][0]).days + 1\n",
    "    \n",
    "    nCharacters = 0 #including spaces\n",
    "    nWords = 0\n",
    "    nMedia = 0\n",
    "    LenLongestMsg = 0\n",
    "    \n",
    "    for item in chatDataList:\n",
    "        nCharacters = nCharacters + len(item[3])\n",
    "        nWords = nWords + len(item[3].split())\n",
    "        if item[3] == \"<Media omitted>\":\n",
    "            nMedia = nMedia + 1\n",
    "        LenLongestMsg = max(LenLongestMsg, len(item[3]))\n",
    "        \n",
    "        \n",
    "    AvgMsgPerDay = int(nMsg/ChatDuration)\n",
    "    AvgCharPerMsg = int(nCharacters/nMsg)\n",
    "    AvgCharPerDay = int(AvgMsgPerDay*AvgCharPerMsg)\n",
    "    AvgWordsPerMsg = int(nWords/nMsg)\n",
    "    AvgWordsPerDay = int(AvgWordsPerMsg*AvgMsgPerDay)\n",
    "    AvgMediaPerDay = int(nMedia/ChatDuration)\n",
    "        \n",
    "        \n",
    "    return (nMsg, ChatDuration, nCharacters, nWords, nMedia, AvgMsgPerDay, AvgCharPerMsg, AvgCharPerDay, LenLongestMsg, AvgWordsPerMsg, AvgWordsPerDay, AvgMediaPerDay)"
   ]
  },
  {
   "cell_type": "code",
   "execution_count": 7,
   "metadata": {},
   "outputs": [],
   "source": [
    "def GetIndividualDataDistribution(chatDataList):\n",
    "    '''\n",
    "    Input: list output from getSimplifiedChatData function\n",
    "    output: Dictionary[First Name as key]: ChatData for that Individual\n",
    "    '''\n",
    "    MembersData = {}\n",
    "    \n",
    "    \n",
    "    for item in chatDataList:\n",
    "        firstName = item[2].split()[0]\n",
    "        if firstName not in MembersData:\n",
    "            MembersData[firstName] = []\n",
    "            \n",
    "        MembersData[firstName].append(item)\n",
    "        \n",
    "    \n",
    "    \n",
    "    \n",
    "    return MembersData\n",
    "    "
   ]
  },
  {
   "cell_type": "code",
   "execution_count": 8,
   "metadata": {},
   "outputs": [],
   "source": [
    "def getIndividualBasicStats(chatDataList):\n",
    "    '''\n",
    "    Input: list output from getSimplifiedChatData function\n",
    "    Output: Dictionary[First Name as key]: Basic Stats of chat for that Individual\n",
    "    '''\n",
    "    \n",
    "    MembersData = GetIndividualDataDistribution(chatDataList)\n",
    "    \n",
    "    IndividualBasicStats = {}\n",
    "    \n",
    "    for keys in MembersData.keys():\n",
    "        IndividualBasicStats[keys] = GetBasicStats(MembersData[keys])\n",
    "        \n",
    "    return IndividualBasicStats"
   ]
  },
  {
   "cell_type": "code",
   "execution_count": 9,
   "metadata": {},
   "outputs": [],
   "source": [
    "def getDayWiseDataDistribution(chatDataList):\n",
    "    '''\n",
    "    Input: list output from getSimplifiedChatData function\n",
    "    Output: Dictionary[Date in datetime as key]: ChatData for that Date\n",
    "    '''\n",
    "    \n",
    "    DayWiseDistribution = {}\n",
    "    \n",
    "    for item in chatDataList:\n",
    "        if item[0] not in DayWiseDistribution:\n",
    "            DayWiseDistribution[item[0]] = []\n",
    "            \n",
    "        DayWiseDistribution[item[0]].append(item)\n",
    "        \n",
    "    return DayWiseDistribution\n",
    "        \n",
    "    \n",
    "    "
   ]
  },
  {
   "cell_type": "code",
   "execution_count": 10,
   "metadata": {},
   "outputs": [],
   "source": [
    "def getDayWiseBasicStats(chatDataList):\n",
    "    '''\n",
    "    Input: list output from getSimplifiedChatData function\n",
    "    Output: Dictionary[Date in datetime type as key]: Basic Stats of chat for that Date\n",
    "    '''\n",
    "    DayWiseDistribution = getDayWiseDataDistribution(chatDataList)\n",
    "    \n",
    "    DayWiseBasicStats = {}\n",
    "    \n",
    "    for key in DayWiseDistribution.keys():\n",
    "        DayWiseBasicStats[key] = GetBasicStats(DayWiseDistribution[key])\n",
    "        \n",
    "        \n",
    "    return DayWiseBasicStats"
   ]
  },
  {
   "cell_type": "code",
   "execution_count": 11,
   "metadata": {},
   "outputs": [],
   "source": [
    "def getDayWisePersonWiseDistribution(chatDataList):\n",
    "    '''\n",
    "    Input: list output from getSimplifiedChatData function\n",
    "    Output: Dictionary[Date in datetime type as key]: Dictionary[First Name as key]: ChatData for that Individual that day\n",
    "    '''\n",
    "    \n",
    "    DayWiseDistribution = getDayWiseDataDistribution(chatDataList)\n",
    "    \n",
    "    DayMemberDistribution = {}\n",
    "    \n",
    "    for key in DayWiseDistribution.keys():\n",
    "        DayMemberDistribution[key] = GetIndividualDataDistribution(DayWiseDistribution[key])\n",
    "        \n",
    "    return DayMemberDistribution\n",
    "    "
   ]
  },
  {
   "cell_type": "code",
   "execution_count": 12,
   "metadata": {},
   "outputs": [],
   "source": [
    "def getDayWisePersonWiseBasicStats(chatDataList):\n",
    "    '''\n",
    "    Input: List output from getSimplifiedChatData function\n",
    "    Output: Dictionary[Date in datetime type as key]: Dictionary[First Name as key]: BasicStats for that Individual that day\n",
    "    '''\n",
    "    \n",
    "    DayWiseDistribution = getDayWiseDataDistribution(chatDataList)\n",
    "    \n",
    "    DayMemberBasicStats = {}\n",
    "    \n",
    "    for key in DayWiseDistribution.keys():\n",
    "        DayMemberBasicStats[key] = getIndividualBasicStats(DayWiseDistribution[key])\n",
    "        \n",
    "    return DayMemberBasicStats"
   ]
  },
  {
   "cell_type": "code",
   "execution_count": 13,
   "metadata": {},
   "outputs": [],
   "source": [
    "def extractDomainName(line):\n",
    "    '''This function extracts and returns domain name of url \n",
    "    from the given sentence passed as parameter\n",
    "    If no url is present, it returns None'''\n",
    "    \n",
    "    link = re.search(\"https://(.+?)/\", line)  #if url is present, extracting till first '/' after https\n",
    "    \n",
    "    if link is None:\n",
    "        return None\n",
    "    \n",
    "    link = link.group(1)\n",
    "    \n",
    "    linkWords = link.split('.')\n",
    "    \n",
    "    if len(linkWords) > 2:                     #first word mostly like is www\n",
    "        return linkWords[1]\n",
    "    else:\n",
    "        return linkWords[0]                    #first word itself is the domain name"
   ]
  },
  {
   "cell_type": "code",
   "execution_count": 14,
   "metadata": {},
   "outputs": [],
   "source": [
    "def getAllLinksStat(filename):\n",
    "    '''This function takes filename as input parameter\n",
    "    and returns a map with domain name as key & count as its value'''\n",
    "    \n",
    "    allChatDataSimplified = getSimplifiedChatData(filename)   #Getting simplified data\n",
    "    allLinksStat = {}                                          #variable to store all links count\n",
    "    \n",
    "    for eachChatData in allChatDataSimplified:\n",
    "        message = eachChatData[3]  \n",
    "        \n",
    "        domainName = extractDomainName(message)\n",
    "        \n",
    "        if domainName is not None:\n",
    "            if domainName in allLinksStat:\n",
    "                allLinksStat[domainName] = allLinksStat[domainName] + 1\n",
    "            else:\n",
    "                allLinksStat[domainName] = 1\n",
    "    \n",
    "    return allLinksStat"
   ]
  },
  {
   "cell_type": "code",
   "execution_count": 39,
   "metadata": {},
   "outputs": [],
   "source": [
    "def getDayWiseStatPlots(chatDataList, plots = True):\n",
    "    '''\n",
    "    Input: List output from getSimplifiedChatData function, plots (True for plot outputs, false for only Data)\n",
    "    Output: -tuple of following lists (Dates, nMsgEachDay, nCharactersEachDay, nWordsEachDay, nMediaEachDay,\n",
    "                                      CharPerMsgEachDay, LenLongestMsgForDay, WordsPerMsgForDay)\n",
    "            -Saves the plots of all elements in list (except Dates) vs Dates plots in directory:\n",
    "            <current location>/Plots/DayWisePlots/                                \n",
    "    '''\n",
    "    \n",
    "    DayWiseStats = getDayWiseBasicStats(chatDataList)\n",
    "    \n",
    "    nMsgEachDay = []\n",
    "    nCharactersEachDay = []\n",
    "    nWordsEachDay = []\n",
    "    nMediaEachDay = []\n",
    "    CharPerMsgEachDay = []\n",
    "    LenLongestMsgForDay = []\n",
    "    WordsPerMsgForDay = []\n",
    "    Dates = list(DayWiseStats.keys())\n",
    "        \n",
    "    for key in DayWiseStats.keys():\n",
    "        (nMsg, _, nCharacters, nWords, nMedia, _, AvgCharPerMsg, _, LenLongestMsg, AvgWordsPerMsg, _, _) = DayWiseStats[key]\n",
    "        nMsgEachDay.append(nMsg)\n",
    "        nCharactersEachDay.append(nCharacters)\n",
    "        nWordsEachDay.append(nWords)\n",
    "        nMediaEachDay.append(nMedia)\n",
    "        CharPerMsgEachDay.append(AvgCharPerMsg)\n",
    "        LenLongestMsgForDay.append(LenLongestMsg)\n",
    "        WordsPerMsgForDay.append(AvgWordsPerMsg)\n",
    "        \n",
    "        \n",
    "    \n",
    "    # Plots\n",
    "    if plots == True:\n",
    "\n",
    "        if not os.path.exists('Plots/IndividualPlots'):\n",
    "            os.makedirs('Plots/DayWisePlots')\n",
    "\n",
    "        fig_size = 10\n",
    "\n",
    "        plt.figure(figsize = (fig_size, fig_size))\n",
    "        plt.plot(Dates, nMsgEachDay)\n",
    "        plt.xlabel('Dates')\n",
    "        plt.ylabel('No. of Message Each Day')\n",
    "        plt.savefig('Plots/DayWisePlots/nMsgVsDay.jpg')\n",
    "\n",
    "        plt.figure(figsize = (fig_size, fig_size))\n",
    "        plt.plot(Dates, nCharactersEachDay)\n",
    "        plt.xlabel('Dates')\n",
    "        plt.ylabel('No. of Characters Each Day')\n",
    "        plt.savefig('Plots/DayWisePlots/nCharactersvsDay.jpg')\n",
    "\n",
    "        plt.figure(figsize = (fig_size, fig_size))\n",
    "        plt.plot(Dates, nWordsEachDay)\n",
    "        plt.xlabel('Dates')\n",
    "        plt.ylabel('No. of Words Each Day')\n",
    "        plt.savefig('Plots/DayWisePlots/nWordsVsDay.jpg')\n",
    "\n",
    "        plt.figure(figsize = (fig_size, fig_size))\n",
    "        plt.plot(Dates, nMediaEachDay)\n",
    "        plt.xlabel('Dates')\n",
    "        plt.ylabel('No. of Media Each Day')\n",
    "        plt.savefig('Plots/DayWisePlots/nMediaVsDay.jpg')\n",
    "\n",
    "        plt.figure(figsize = (fig_size, fig_size))\n",
    "        plt.plot(Dates, CharPerMsgEachDay)\n",
    "        plt.xlabel('Dates')\n",
    "        plt.ylabel('No. of Characters per Message Each Day')\n",
    "        plt.savefig('Plots/DayWisePlots/nCharPerMsgVsDay')\n",
    "\n",
    "        plt.figure(figsize = (fig_size, fig_size))\n",
    "        plt.plot(Dates, LenLongestMsgForDay)\n",
    "        plt.xlabel('Dates')\n",
    "        plt.ylabel('Length of longest Msg for that Day')\n",
    "        plt.savefig('Plots/DayWisePlots/lenLongestMsgVsDay.jpg')\n",
    "\n",
    "        plt.figure(figsize = (fig_size, fig_size))\n",
    "        plt.plot(Dates, WordsPerMsgForDay)\n",
    "        plt.xlabel('Dates')\n",
    "        plt.ylabel('No. of Words per Message for that Day')\n",
    "        plt.savefig('Plots/DayWisePlots/WordsPerMsgVsDay.jpg')\n",
    "\n",
    "        \n",
    "    return (Dates, nMsgEachDay, nCharactersEachDay, nWordsEachDay, nMediaEachDay, CharPerMsgEachDay,\n",
    "            LenLongestMsgForDay, WordsPerMsgForDay)"
   ]
  },
  {
   "cell_type": "code",
   "execution_count": 35,
   "metadata": {},
   "outputs": [],
   "source": [
    "def getIndividualStatsRadarPlot(chatDataList, plots = True):\n",
    "    '''\n",
    "    Input: List output from getSimplifiedChatData function, plots (True for plot outputs, false for only Data)\n",
    "    Output: -tuple of list of categories for radar plot, dictionary with individual name as key\n",
    "            and data corresponding to categories for that individual, max values among all participants\n",
    "            for element in categories\n",
    "            -Saves the Radar plot of elements in category list in directory: \n",
    "            <current location>/Plots/IndividualPlots/\n",
    "    Caveats: -categories list is defined manually and few lines (marked) have to be changed if categories list is changed\n",
    "    '''\n",
    "    IndividualStats = getIndividualBasicStats(chatDataList)\n",
    "    \n",
    "    categories = [\"nMsg\", \"nWords\", \"nMedia\", \"AvgMsgPerDay\", \"LenLongestMsg\", \"AvgWordsPerMsg\"]\n",
    "    categories = [*categories, categories[0]] #To avoid overlap between first and last category in Radar plot\n",
    "    PlotData = {}\n",
    "    \n",
    "    \n",
    "    # For Normalizing the Data\n",
    "    # Needs to be changed if 'categories' list is changed\n",
    "    \n",
    "    nMsgMax = 0\n",
    "    nWordsMax = 0\n",
    "    nMediaMax = 0\n",
    "    AvgMsgPerDayMax = 0\n",
    "    LenLongestMsgMax = 0\n",
    "    AvgWordsPerMsgMax = 0\n",
    "    \n",
    "    for key in IndividualStats.keys(): # Needs to be changed if 'categories' list is changed\n",
    "        (nMsg, _, _, nWords, nMedia, AvgMsgPerDay, _,\n",
    "         _, LenLongestMsg, AvgWordsPerMsg, _, _) = IndividualStats[key] \n",
    "        \n",
    "        nMsgMax = max(nMsgMax, nMsg)\n",
    "        nWordsMax = max(nWordsMax, nWords)\n",
    "        nMediaMax = max(nMediaMax, nMedia)\n",
    "        AvgMsgPerDayMax = max(AvgMsgPerDayMax, AvgMsgPerDay)\n",
    "        LenLongestMsgMax = max(LenLongestMsgMax, LenLongestMsg)\n",
    "        AvgWordsPerMsgMax = max(AvgWordsPerMsgMax, AvgWordsPerMsg)\n",
    "    \n",
    "    # Needs to be changed if 'categories' list is changed\n",
    "    max_values = [nMsgMax, nWordsMax, nMediaMax, AvgMsgPerDayMax, LenLongestMsgMax, AvgWordsPerMsgMax]\n",
    "    max_values = [*max_values, max_values[0]]\n",
    "    \n",
    "    \n",
    "    for key in IndividualStats.keys(): # Needs to be changed if 'categories' list is changed\n",
    "        (nMsg, _, _, nWords, nMedia, AvgMsgPerDay, _,\n",
    "         _, LenLongestMsg, AvgWordsPerMsg, _, _) = IndividualStats[key]\n",
    "        \n",
    "        PlotData[key] = [nMsg/nMsgMax, nWords/nWordsMax, nMedia/nMediaMax, AvgMsgPerDay/AvgMsgPerDayMax,\n",
    "                         LenLongestMsg/LenLongestMsgMax, AvgWordsPerMsg/AvgWordsPerMsgMax]\n",
    "        PlotData[key] = [*PlotData[key], PlotData[key][0]] #To avoid overlap between first and last category in Radar plot\n",
    "        \n",
    "        \n",
    "    \n",
    "    # Plots\n",
    "    if plots == True:\n",
    "\n",
    "        if not os.path.exists('Plots/IndividualPlots'):\n",
    "            os.makedirs('Plots/IndividualPlots')\n",
    "\n",
    "        label_loc = np.linspace(start=0, stop=2 * np.pi, num=len(categories))\n",
    "        fig_size = 12\n",
    "        plt.figure(figsize = (fig_size, fig_size))\n",
    "        plt.subplot(polar=True)\n",
    "\n",
    "        for key in PlotData.keys():\n",
    "            plt.plot(label_loc, PlotData[key], label=key)\n",
    "\n",
    "        plt.title('Normalized Individual Stats', size=20)\n",
    "        lines, labels = plt.thetagrids(np.degrees(label_loc), labels=categories)\n",
    "        plt.legend()\n",
    "        plt.savefig('Plots/IndividualPlots/RadarPlot.jpg')\n",
    "\n",
    "    \n",
    "    \n",
    "    return (categories, PlotData, max_values)\n",
    "    \n",
    "    \n",
    "    \n",
    "    \n",
    "    "
   ]
  },
  {
   "cell_type": "code",
   "execution_count": 17,
   "metadata": {},
   "outputs": [],
   "source": [
    "Data = getSimplifiedChatData(fileName)"
   ]
  },
  {
   "cell_type": "code",
   "execution_count": null,
   "metadata": {},
   "outputs": [],
   "source": []
  },
  {
   "cell_type": "code",
   "execution_count": 36,
   "metadata": {},
   "outputs": [],
   "source": [
    "RadarPlotData = getIndividualStatsRadarPlot(Data, False)"
   ]
  },
  {
   "cell_type": "code",
   "execution_count": 82,
   "metadata": {},
   "outputs": [
    {
     "data": {
      "text/plain": [
       "7"
      ]
     },
     "execution_count": 82,
     "metadata": {},
     "output_type": "execute_result"
    }
   ],
   "source": [
    "len(RadarPlotData[1]['Apoorv'])"
   ]
  },
  {
   "cell_type": "code",
   "execution_count": 83,
   "metadata": {},
   "outputs": [
    {
     "data": {
      "text/plain": [
       "7"
      ]
     },
     "execution_count": 83,
     "metadata": {},
     "output_type": "execute_result"
    }
   ],
   "source": [
    "len(RadarPlotData[0])"
   ]
  },
  {
   "cell_type": "code",
   "execution_count": null,
   "metadata": {},
   "outputs": [],
   "source": []
  },
  {
   "cell_type": "code",
   "execution_count": null,
   "metadata": {},
   "outputs": [],
   "source": []
  },
  {
   "cell_type": "code",
   "execution_count": null,
   "metadata": {},
   "outputs": [],
   "source": []
  },
  {
   "cell_type": "code",
   "execution_count": null,
   "metadata": {},
   "outputs": [],
   "source": []
  },
  {
   "cell_type": "code",
   "execution_count": null,
   "metadata": {},
   "outputs": [],
   "source": []
  },
  {
   "cell_type": "code",
   "execution_count": null,
   "metadata": {},
   "outputs": [],
   "source": []
  },
  {
   "cell_type": "code",
   "execution_count": 29,
   "metadata": {},
   "outputs": [
    {
     "data": {
      "text/plain": [
       "True"
      ]
     },
     "execution_count": 29,
     "metadata": {},
     "output_type": "execute_result"
    }
   ],
   "source": []
  },
  {
   "cell_type": "code",
   "execution_count": null,
   "metadata": {},
   "outputs": [],
   "source": []
  },
  {
   "cell_type": "code",
   "execution_count": 41,
   "metadata": {},
   "outputs": [],
   "source": [
    "b = getDayWiseStatPlots(Data, False)"
   ]
  },
  {
   "cell_type": "code",
   "execution_count": null,
   "metadata": {},
   "outputs": [],
   "source": [
    "a = getIndividualStatsRadarPlot(Data)"
   ]
  },
  {
   "cell_type": "code",
   "execution_count": null,
   "metadata": {},
   "outputs": [],
   "source": []
  },
  {
   "cell_type": "code",
   "execution_count": null,
   "metadata": {},
   "outputs": [],
   "source": []
  },
  {
   "cell_type": "code",
   "execution_count": null,
   "metadata": {},
   "outputs": [],
   "source": []
  },
  {
   "cell_type": "code",
   "execution_count": null,
   "metadata": {},
   "outputs": [],
   "source": []
  }
 ],
 "metadata": {
  "kernelspec": {
   "display_name": "Python 3",
   "language": "python",
   "name": "python3"
  },
  "language_info": {
   "codemirror_mode": {
    "name": "ipython",
    "version": 3
   },
   "file_extension": ".py",
   "mimetype": "text/x-python",
   "name": "python",
   "nbconvert_exporter": "python",
   "pygments_lexer": "ipython3",
   "version": "3.8.3"
  }
 },
 "nbformat": 4,
 "nbformat_minor": 4
}
