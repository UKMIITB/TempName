{
 "cells": [
  {
   "cell_type": "code",
   "execution_count": 1,
   "metadata": {},
   "outputs": [],
   "source": [
    "# All imports are in this cell\n",
    "import re\n",
    "from datetime import datetime"
   ]
  },
  {
   "cell_type": "code",
   "execution_count": 2,
   "metadata": {},
   "outputs": [],
   "source": [
    "# All constants are in this cell\n",
    "fileName = 'MachauWingiesChatData.txt'"
   ]
  },
  {
   "cell_type": "code",
   "execution_count": 105,
   "metadata": {},
   "outputs": [],
   "source": [
    "def getDateTimeNameMessage(line):\n",
    "    '''This function takes a line as input parameter\n",
    "    and returns a tuple in the following order\n",
    "    (date, time, name, message)\n",
    "    date as datetime type\n",
    "    time in hh:mm am/pm format as string type'''\n",
    "    \n",
    "    date = re.search(\"[0-9]{2}/[0-9]{2}/[0-9]{4}\", line)\n",
    "    time = re.search(\"[0-9]+:[0-9]{2}\\s[ap]m\", line)\n",
    "    name = re.search(\"\\s-\\s(.*?):\", line)\n",
    "    message = re.search(\"\\s-\\s.*:\\s(.+)\", line)\n",
    "    \n",
    "    if date is not None and time is not None and name is not None and message is not None:   # This line contains a new data\n",
    "        date = datetime.strptime(date.group(0), '%d/%m/%Y')\n",
    "        time = time.group(0)\n",
    "        name = name.group(1)\n",
    "        message = message.group(1)\n",
    "    \n",
    "    elif date is not None and time is not None and (name is None or message is None):  # Someone left a group message\n",
    "        date = None\n",
    "        time = None\n",
    "        name = None\n",
    "        message = None\n",
    "    \n",
    "    else:                           # This only contains message, continuation of previous message\n",
    "        date = None\n",
    "        time = None\n",
    "        name = None\n",
    "        message = line\n",
    "    \n",
    "    return (date, time, name, message)"
   ]
  },
  {
   "cell_type": "code",
   "execution_count": 106,
   "metadata": {},
   "outputs": [],
   "source": [
    "def getSimplifiedChatData(filename):\n",
    "    '''This function takes filename as input parameter\n",
    "    and returns a list of all chat data\n",
    "    with each value being a tuple in the order\n",
    "    (date, time, name, message)\n",
    "    \n",
    "    This function merges large messages which come in new line in chat data text file'''\n",
    "    \n",
    "    chatDataTxt = open(filename, 'r', encoding=\"utf8\") # opened as read only\n",
    "    chatDataList = []                 # to store and return the simplified data\n",
    "    \n",
    "    for eachLine in chatDataTxt:\n",
    "        dateTimeNameMsgTuple = getDateTimeNameMessage(eachLine)\n",
    "        \n",
    "        if dateTimeNameMsgTuple[0] is not None:          # New data found\n",
    "            chatDataList.append(dateTimeNameMsgTuple)\n",
    "        \n",
    "        elif dateTimeNameMsgTuple[-1] is None:           # Message is None i.e someone left a group. Skip this data\n",
    "            pass\n",
    "        \n",
    "        else:                                            # message continues from previous data\n",
    "            newMsgForPreviousData = chatDataList[-1][-1] + dateTimeNameMsgTuple[-1]\n",
    "            dateForPreviousData = chatDataList[-1][0]\n",
    "            timeForPreviousData = chatDataList[-1][1]\n",
    "            nameForPreviousData = chatDataList[-1][2]\n",
    "            \n",
    "            chatDataList[-1] = (dateForPreviousData, timeForPreviousData, nameForPreviousData, newMsgForPreviousData)\n",
    "    \n",
    "    return chatDataList"
   ]
  },
  {
   "cell_type": "code",
   "execution_count": 107,
   "metadata": {},
   "outputs": [],
   "source": [
    "def getAllParticipantsName(filename, includeCompleteName = False):\n",
    "    '''This function returns a list of names of all the group participants\n",
    "    Requirement is that they should have posted atleast a single message\n",
    "    Name returned is the name saved in persons whose data has been shared\n",
    "    \n",
    "    Pass the filename to this function\n",
    "    Optionally it accepts includeCompleteName parameter which if true returns complete name\n",
    "    else just first name is included'''\n",
    "    \n",
    "    allChatDataSimplified = getSimplifiedChatData(filename)  #Getting simplified data\n",
    "    allChatParticipants = set()                          #varible of set type to store all participants name\n",
    "    \n",
    "    for eachChatData in allChatDataSimplified:\n",
    "        name = eachChatData[2]\n",
    "        \n",
    "        if includeCompleteName:                          #full name is required\n",
    "            pass\n",
    "        else:                                            #only first name is required\n",
    "            name = name.split()[0]                       \n",
    "        \n",
    "        allChatParticipants.add(name)\n",
    "    \n",
    "    return list(allChatParticipants)  "
   ]
  },
  {
   "cell_type": "code",
   "execution_count": 108,
   "metadata": {},
   "outputs": [],
   "source": [
    "def GetBasicStats(chatDataList):\n",
    "    ''' Input: list output from getSimplifiedChatData function\n",
    "        Output: tuples of general stats (nMsg, ChatDuration, nCharacters, nWords, nMedia, AvgMsgPerDay, AvgCharPerMsg, \n",
    "                                        AvgCharPerDay, LenLongestMsg, AvgWordsPerMsg, AvgWordsPerDay, AvgMediaPerDay)\n",
    "    '''\n",
    "    \n",
    "    nMsg = len(chatDataList)\n",
    "    ChatDuration = (chatDataList[-1][0] - chatDataList[0][0]).days + 1\n",
    "    \n",
    "    nCharacters = 0 #including spaces\n",
    "    nWords = 0\n",
    "    nMedia = 0\n",
    "    \n",
    "    for item in chatDataList:\n",
    "        nCharacters = nCharacters + len(item[3])\n",
    "        nWords = nWords + len(item[3].split())\n",
    "        if item[3] == \"<Media omitted>\":\n",
    "            nMedia = nMedia + 1\n",
    "        \n",
    "        \n",
    "    AvgMsgPerDay = int(nMsg/ChatDuration)\n",
    "    AvgCharPerMsg = int(nCharacters/nMsg)\n",
    "    AvgCharPerDay = int(AvgMsgPerDay*AvgCharPerMsg)\n",
    "    AvgWordsPerMsg = int(nWords/nMsg)\n",
    "    AvgWordsPerDay = int(AvgWordsPerMsg*AvgMsgPerDay)\n",
    "    AvgMediaPerDay = int(nMedia/ChatDuration)\n",
    "    \n",
    "    LenLongestMsg = 0  \n",
    "    for item in chatDataList:\n",
    "        LenLongestMsg = max(LenLongestMsg, len(item[3]))\n",
    "        \n",
    "        \n",
    "    return (nMsg, ChatDuration, nCharacters, nWords, nMedia, AvgMsgPerDay, AvgCharPerMsg, AvgCharPerDay, LenLongestMsg, AvgWordsPerMsg, AvgWordsPerDay, AvgMediaPerDay)"
   ]
  },
  {
   "cell_type": "code",
   "execution_count": 109,
   "metadata": {},
   "outputs": [],
   "source": [
    "def GetIndividualDataDistribution(chatDataList):\n",
    "    '''\n",
    "    Input: list output from getSimplifiedChatData function\n",
    "    output: Dictionary[First Name as key]: ChatData for that Individual\n",
    "    '''\n",
    "    MembersData = {}\n",
    "    \n",
    "    \n",
    "    for item in chatDataList:\n",
    "        firstName = item[2].split()[0]\n",
    "        if firstName not in MembersData:\n",
    "            MembersData[firstName] = []\n",
    "            \n",
    "        MembersData[firstName].append(item)\n",
    "        \n",
    "    \n",
    "    \n",
    "    \n",
    "    return MembersData\n",
    "    "
   ]
  },
  {
   "cell_type": "code",
   "execution_count": 110,
   "metadata": {},
   "outputs": [],
   "source": [
    "def getIndividualBasicStats(chatDataList):\n",
    "    '''\n",
    "    Input: list output from getSimplifiedChatData function\n",
    "    Output: Dictionary[First Name as key]: Basic Stats of chat for that Individual\n",
    "    '''\n",
    "    \n",
    "    MembersData = GetIndividualDataDistribution(chatDataList)\n",
    "    \n",
    "    IndividualBasicStats = {}\n",
    "    \n",
    "    for keys in MembersData.keys():\n",
    "        IndividualBasicStats[keys] = GetBasicStats(MembersData[keys])\n",
    "        \n",
    "    return IndividualBasicStats"
   ]
  },
  {
   "cell_type": "code",
   "execution_count": 111,
   "metadata": {},
   "outputs": [],
   "source": [
    "def getDayWiseDataDistribution(chatDataList):\n",
    "    '''\n",
    "    Input: list output from getSimplifiedChatData function\n",
    "    Output: Dictionary[Date in datetime as key]: ChatData for that Date\n",
    "    '''\n",
    "    \n",
    "    DayWiseDistribution = {}\n",
    "    \n",
    "    for item in chatDataList:\n",
    "        if item[0] not in DayWiseDistribution:\n",
    "            DayWiseDistribution[item[0]] = []\n",
    "            \n",
    "        DayWiseDistribution[item[0]].append(item)\n",
    "        \n",
    "    return DayWiseDistribution\n",
    "        \n",
    "    \n",
    "    "
   ]
  },
  {
   "cell_type": "code",
   "execution_count": 112,
   "metadata": {},
   "outputs": [],
   "source": [
    "def getDayWiseBasicStats(chatDataList):\n",
    "    '''\n",
    "    Input: list output from getSimplifiedChatData function\n",
    "    Output: Dictionary[Date in datetime type as key]: Basic Stats of chat for that Date\n",
    "    '''\n",
    "    DayWiseDistribution = getDayWiseDataDistribution(chatDataList)\n",
    "    \n",
    "    DayWiseBasicStats = {}\n",
    "    \n",
    "    for key in DayWiseDistribution.keys():\n",
    "        DayWiseBasicStats[key] = GetBasicStats(DayWiseDistribution[key])\n",
    "        \n",
    "        \n",
    "    return DayWiseBasicStats"
   ]
  },
  {
   "cell_type": "code",
   "execution_count": 113,
   "metadata": {},
   "outputs": [],
   "source": [
    "def getDayWisePersonWiseDistribution(chatDataList):\n",
    "    '''\n",
    "    Input: list output from getSimplifiedChatData function\n",
    "    Output: Dictionary[Date in datetime type as key]: Dictionary[First Name as key]: ChatData for that Individual that day\n",
    "    '''\n",
    "    \n",
    "    DayWiseDistribution = getDayWiseDataDistribution(chatDataList)\n",
    "    \n",
    "    DayMemberDistribution = {}\n",
    "    \n",
    "    for key in DayWiseDistribution.keys():\n",
    "        DayMemberDistribution[key] = GetIndividualDataDistribution(DayWiseDistribution[key])\n",
    "        \n",
    "    return DayMemberDistribution\n",
    "    "
   ]
  },
  {
   "cell_type": "code",
   "execution_count": 114,
   "metadata": {},
   "outputs": [],
   "source": [
    "def getDayWisePersonWiseBasicStats(chatDataList):\n",
    "    '''\n",
    "    Input: List output from getSimplifiedChatData function\n",
    "    Output: Dictionary[Date in datetime type as key]: Dictionary[First Name as key]: BasicStats for that Individual that day\n",
    "    '''\n",
    "    \n",
    "    DayWiseDistribution = getDayWiseDataDistribution(chatDataList)\n",
    "    \n",
    "    DayMemberBasicStats = {}\n",
    "    \n",
    "    for key in DayWiseDistribution.keys():\n",
    "        DayMemberBasicStats[key] = getIndividualBasicStats(DayWiseDistribution[key])\n",
    "        \n",
    "    return DayMemberBasicStats"
   ]
  },
  {
   "cell_type": "code",
   "execution_count": 115,
   "metadata": {},
   "outputs": [],
   "source": [
    "def extractDomainName(line):\n",
    "    '''This function extracts and returns domain name of url \n",
    "    from the given sentence passed as parameter\n",
    "    If no url is present, it returns None'''\n",
    "    \n",
    "    link = re.search(\"https://(.+?)/\", line)  #if url is present, extracting till first '/' after https\n",
    "    \n",
    "    if link is None:\n",
    "        return None\n",
    "    \n",
    "    link = link.group(1)\n",
    "    \n",
    "    linkWords = link.split('.')\n",
    "    \n",
    "    if len(linkWords) > 2:                     #first word mostly like is www\n",
    "        return linkWords[1]\n",
    "    else:\n",
    "        return linkWords[0]                    #first word itself is the domain name"
   ]
  },
  {
   "cell_type": "code",
   "execution_count": 116,
   "metadata": {},
   "outputs": [],
   "source": [
    "def getAllLinksStat(filename):\n",
    "    '''This function takes filename as input parameter\n",
    "    and returns a map with domain name as key & count as its value'''\n",
    "    \n",
    "    allChatDataSimplified = getSimplifiedChatData(filename)   #Getting simplified data\n",
    "    allLinksStat = {}                                          #variable to store all links count\n",
    "    \n",
    "    for eachChatData in allChatDataSimplified:\n",
    "        message = eachChatData[3]  \n",
    "        \n",
    "        domainName = extractDomainName(message)\n",
    "        \n",
    "        if domainName is not None:\n",
    "            if domainName in allLinksStat:\n",
    "                allLinksStat[domainName] = allLinksStat[domainName] + 1\n",
    "            else:\n",
    "                allLinksStat[domainName] = 1\n",
    "    \n",
    "    return allLinksStat"
   ]
  },
  {
   "cell_type": "code",
   "execution_count": 126,
   "metadata": {},
   "outputs": [],
   "source": [
    "def getDayWiseStatPlotData(chatDataList):\n",
    "    '''\n",
    "    Input: List output from getSimplifiedChatData function\n",
    "    Output: tuple of following lists (Dates, nMsgEachDay, nCharactersEachDay, nWordsEachDay, nMediaEachDay,\n",
    "                                      CharPerMsgEachDay, LenLongestMsgForDay, WordsPerMsgForDay)\n",
    "    '''\n",
    "    \n",
    "    DayWiseStats = getDayWiseBasicStats(chatDataList)\n",
    "    \n",
    "    nMsgEachDay = []\n",
    "    nCharactersEachDay = []\n",
    "    nWordsEachDay = []\n",
    "    nMediaEachDay = []\n",
    "    CharPerMsgEachDay = []\n",
    "    LenLongestMsgForDay = []\n",
    "    WordsPerMsgForDay = []\n",
    "    Dates = list(DayWiseStats.keys())\n",
    "        \n",
    "    for key in DayWiseStats.keys():\n",
    "        (nMsg, _, nCharacters, nWords, nMedia, _, AvgCharPerMsg, _, LenLongestMsg, AvgWordsPerMsg, _, _) = DayWiseStats[key]\n",
    "        nMsgEachDay.append(nMsg)\n",
    "        nCharactersEachDay.append(nCharacters)\n",
    "        nWordsEachDay.append(nWords)\n",
    "        nMediaEachDay.append(nMedia)\n",
    "        CharPerMsgEachDay.append(AvgCharPerMsg)\n",
    "        LenLongestMsgForDay.append(LenLongestMsg)\n",
    "        WordsPerMsgForDay.append(AvgWordsPerMsg)\n",
    "        \n",
    "    return (Dates, nMsgEachDay, nCharactersEachDay, nWordsEachDay, nMediaEachDay, CharPerMsgEachDay, LenLongestMsgForDay, WordsPerMsgForDay)"
   ]
  },
  {
   "cell_type": "code",
   "execution_count": null,
   "metadata": {},
   "outputs": [],
   "source": [
    "def getIndividualWiseStatPlotData(chatDataList):\n",
    "    '''\n",
    "    \n",
    "    '''\n",
    "    IndividualStats = getIndividualBasicStats(chatDataList)\n",
    "    \n",
    "    \n",
    "    \n",
    "    \n",
    "    "
   ]
  },
  {
   "cell_type": "code",
   "execution_count": null,
   "metadata": {},
   "outputs": [],
   "source": []
  },
  {
   "cell_type": "code",
   "execution_count": 70,
   "metadata": {},
   "outputs": [],
   "source": [
    "Data = getSimplifiedChatData(fileName)"
   ]
  },
  {
   "cell_type": "code",
   "execution_count": 71,
   "metadata": {},
   "outputs": [],
   "source": [
    "#Plots: Overall, Number of words each day\n",
    "\n",
    "#DayWiseDistribution = getDayWiseDataDistribution(Data)\n",
    "DayWiseBasicStats = getDayWiseBasicStats(Data)"
   ]
  },
  {
   "cell_type": "code",
   "execution_count": 76,
   "metadata": {},
   "outputs": [],
   "source": [
    "nMsgEachDay = []\n",
    "nCharactersEachDay = []\n",
    "nWordsEachDay = []\n",
    "nMediaEachDay = []\n",
    "Dates = list(DayWiseBasicStats.keys())\n",
    "for key in DayWiseBasicStats.keys():\n",
    "    (nMsg, _, nCharacters, nWords, nMedia) = DayWiseBasicStats[key]\n",
    "    nMsgEachDay.append(nMsg)\n",
    "    nCharactersEachDay.append(nCharacters)\n",
    "    nWordsEachDay.append(nWords)\n",
    "    nMediaEachDay.append(nMedia)"
   ]
  },
  {
   "cell_type": "code",
   "execution_count": 51,
   "metadata": {},
   "outputs": [],
   "source": [
    "(nMsgs,_, _, _ ,_ ) = DayWiseBasicStats[datetime(2020, 4, 3, 0, 0)]"
   ]
  },
  {
   "cell_type": "code",
   "execution_count": 56,
   "metadata": {},
   "outputs": [],
   "source": [
    "import matplotlib.pyplot as plt\n",
    "import matplotlib"
   ]
  },
  {
   "cell_type": "code",
   "execution_count": 59,
   "metadata": {},
   "outputs": [],
   "source": [
    "dates = matplotlib.dates.date2num(Dates)"
   ]
  },
  {
   "cell_type": "code",
   "execution_count": null,
   "metadata": {},
   "outputs": [],
   "source": [
    "plt.subplot(1, 1, 1)\n",
    "plt.plot(Dates, nMsgEachDay)\n",
    "plt.ylabel(\"No. of Messages\")\n",
    "\n",
    "plt.subplot(2,, 2)\n",
    "plt.plot(Dates, nWordsEachDay)\n",
    "plt.ylabel(\"No. of Words\")\n",
    "\n",
    "plt.show()"
   ]
  },
  {
   "cell_type": "code",
   "execution_count": null,
   "metadata": {},
   "outputs": [],
   "source": [
    "plt.plot(Dates, nMediaEachDay)\n",
    "plt.ylabel(\"No. of Messages\")"
   ]
  },
  {
   "cell_type": "code",
   "execution_count": 121,
   "metadata": {},
   "outputs": [],
   "source": [
    "(Dates, nMsgEachDay, nCharactersEachDay, nWordsEachDay, nMediaEachDay) = getDayWiseBasicStatPlots(Data)"
   ]
  },
  {
   "cell_type": "code",
   "execution_count": null,
   "metadata": {},
   "outputs": [],
   "source": []
  },
  {
   "cell_type": "code",
   "execution_count": null,
   "metadata": {},
   "outputs": [],
   "source": []
  }
 ],
 "metadata": {
  "kernelspec": {
   "display_name": "Python 3",
   "language": "python",
   "name": "python3"
  },
  "language_info": {
   "codemirror_mode": {
    "name": "ipython",
    "version": 3
   },
   "file_extension": ".py",
   "mimetype": "text/x-python",
   "name": "python",
   "nbconvert_exporter": "python",
   "pygments_lexer": "ipython3",
   "version": "3.8.3"
  }
 },
 "nbformat": 4,
 "nbformat_minor": 4
}
